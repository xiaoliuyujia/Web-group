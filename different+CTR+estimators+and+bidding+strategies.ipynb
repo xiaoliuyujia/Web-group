{
 "cells": [
  {
   "cell_type": "code",
   "execution_count": 1,
   "metadata": {
    "collapsed": false
   },
   "outputs": [],
   "source": [
    "import pandas as pd\n",
    "import numpy as np\n",
    "from sklearn import svm\n",
    "from sklearn.neighbors import KNeighborsClassifier\n",
    "from sklearn.ensemble import RandomForestClassifier, AdaBoostClassifier\n",
    "from sklearn.tree import DecisionTreeClassifier"
   ]
  },
  {
   "cell_type": "code",
   "execution_count": 2,
   "metadata": {
    "collapsed": false
   },
   "outputs": [],
   "source": [
    "test=pd.read_csv('C:/Users/yifeichongtian/Desktop/UCL course material/web economics/report/dataset/test.csv')"
   ]
  },
  {
   "cell_type": "code",
   "execution_count": 3,
   "metadata": {
    "collapsed": true
   },
   "outputs": [],
   "source": [
    "validation=pd.read_csv('C:/Users/yifeichongtian/Desktop/UCL course material/web economics/report/dataset/validation.csv')"
   ]
  },
  {
   "cell_type": "code",
   "execution_count": 4,
   "metadata": {
    "collapsed": false
   },
   "outputs": [
    {
     "name": "stdout",
     "output_type": "stream",
     "text": [
      "<class 'pandas.core.frame.DataFrame'>\n",
      "RangeIndex: 299749 entries, 0 to 299748\n",
      "Data columns (total 26 columns):\n",
      "click             299749 non-null int64\n",
      "weekday           299749 non-null int64\n",
      "hour              299749 non-null int64\n",
      "bidid             299749 non-null object\n",
      "logtype           299749 non-null int64\n",
      "userid            299749 non-null object\n",
      "useragent         299749 non-null object\n",
      "IP                299749 non-null object\n",
      "region            299749 non-null int64\n",
      "city              299749 non-null int64\n",
      "adexchange        299749 non-null object\n",
      "domain            299749 non-null object\n",
      "url               299749 non-null object\n",
      "urlid             299749 non-null object\n",
      "slotid            299749 non-null object\n",
      "slotwidth         299749 non-null int64\n",
      "slotheight        299749 non-null int64\n",
      "slotvisibility    299749 non-null object\n",
      "slotformat        299749 non-null object\n",
      "slotprice         299749 non-null int64\n",
      "creative          299749 non-null object\n",
      "bidprice          299749 non-null int64\n",
      "payprice          299749 non-null int64\n",
      "keypage           299749 non-null object\n",
      "advertiser        299749 non-null int64\n",
      "usertag           299749 non-null object\n",
      "dtypes: int64(12), object(14)\n",
      "memory usage: 59.5+ MB\n"
     ]
    }
   ],
   "source": [
    "validation.info()"
   ]
  },
  {
   "cell_type": "code",
   "execution_count": 5,
   "metadata": {
    "collapsed": false
   },
   "outputs": [
    {
     "data": {
      "text/plain": [
       "1458    60025\n",
       "3386    55196\n",
       "3427    50381\n",
       "3476    38839\n",
       "3358    33853\n",
       "2821    25632\n",
       "2259    16419\n",
       "2261    13370\n",
       "2997     6034\n",
       "Name: advertiser, dtype: int64"
      ]
     },
     "execution_count": 5,
     "metadata": {},
     "output_type": "execute_result"
    }
   ],
   "source": [
    "validation.advertiser.value_counts()"
   ]
  },
  {
   "cell_type": "code",
   "execution_count": 6,
   "metadata": {
    "collapsed": false
   },
   "outputs": [],
   "source": [
    "new_validation=validation['bidprice']\n",
    "new_validation=pd.DataFrame(validation['bidprice'])\n",
    "new_validation.columns=['bidprice']"
   ]
  },
  {
   "cell_type": "code",
   "execution_count": 7,
   "metadata": {
    "collapsed": false
   },
   "outputs": [
    {
     "data": {
      "text/plain": [
       "300    115221\n",
       "294     39256\n",
       "238     38786\n",
       "227     31467\n",
       "241     25098\n",
       "277     22199\n",
       "254     14636\n",
       "249     13086\n",
       "Name: bidprice, dtype: int64"
      ]
     },
     "execution_count": 7,
     "metadata": {},
     "output_type": "execute_result"
    }
   ],
   "source": [
    "new_validation.bidprice.value_counts()"
   ]
  },
  {
   "cell_type": "code",
   "execution_count": 8,
   "metadata": {
    "collapsed": false
   },
   "outputs": [
    {
     "data": {
      "text/plain": [
       "300    115221\n",
       "294     39256\n",
       "238     38786\n",
       "227     31467\n",
       "241     25098\n",
       "277     22199\n",
       "254     14636\n",
       "249     13086\n",
       "Name: bidprice, dtype: int64"
      ]
     },
     "execution_count": 8,
     "metadata": {},
     "output_type": "execute_result"
    }
   ],
   "source": [
    "validation.bidprice.value_counts()"
   ]
  },
  {
   "cell_type": "code",
   "execution_count": 9,
   "metadata": {
    "collapsed": false
   },
   "outputs": [
    {
     "data": {
      "text/plain": [
       "3       99896\n",
       "2       92986\n",
       "1       91118\n",
       "4        9715\n",
       "null     6034\n",
       "Name: adexchange, dtype: int64"
      ]
     },
     "execution_count": 9,
     "metadata": {},
     "output_type": "execute_result"
    }
   ],
   "source": [
    "validation.adexchange.value_counts()"
   ]
  },
  {
   "cell_type": "code",
   "execution_count": 10,
   "metadata": {
    "collapsed": false
   },
   "outputs": [],
   "source": [
    "validation.loc[validation.adexchange=='3','adexchange':]=3\n",
    "validation.loc[validation.adexchange=='2','adexchange':]=2\n",
    "validation.loc[validation.adexchange=='1','adexchange':]=1\n",
    "validation.loc[validation.adexchange=='4','adexchange':]=4\n",
    "validation.loc[validation.adexchange=='null','adexchange':]=0"
   ]
  },
  {
   "cell_type": "code",
   "execution_count": 11,
   "metadata": {
    "collapsed": true
   },
   "outputs": [],
   "source": [
    "from sklearn import preprocessing\n",
    "label_encoder = preprocessing.LabelEncoder()"
   ]
  },
  {
   "cell_type": "code",
   "execution_count": 12,
   "metadata": {
    "collapsed": false
   },
   "outputs": [
    {
     "data": {
      "text/plain": [
       "3    99896\n",
       "2    92986\n",
       "1    91118\n",
       "4     9715\n",
       "0     6034\n",
       "Name: adexchange, dtype: int64"
      ]
     },
     "execution_count": 12,
     "metadata": {},
     "output_type": "execute_result"
    }
   ],
   "source": [
    "validation['adexchange'].value_counts()"
   ]
  },
  {
   "cell_type": "code",
   "execution_count": 13,
   "metadata": {
    "collapsed": false
   },
   "outputs": [],
   "source": [
    "validation['userid']=label_encoder.fit_transform(validation['userid'])\n",
    "validation['useragent']=label_encoder.fit_transform(validation['useragent'])\n",
    "validation['usertag']=label_encoder.fit_transform(validation['usertag'])\n",
    "validation['adexchange']=label_encoder.fit_transform(validation['adexchange'])\n",
    "validation['IP']=label_encoder.fit_transform(validation['IP'])"
   ]
  },
  {
   "cell_type": "markdown",
   "metadata": {},
   "source": [
    "'hour','weekday','hour','useragent','IP','adexchange','slotwidth','slotheight',"
   ]
  },
  {
   "cell_type": "code",
   "execution_count": 14,
   "metadata": {
    "collapsed": false
   },
   "outputs": [],
   "source": [
    "validation['intercept']=1\n",
    "feature=['click','useragent','usertag','userid','weekday','hour','intercept','adexchange','weekday','hour','city','region']\n",
    "validation_sample=validation[feature]"
   ]
  },
  {
   "cell_type": "code",
   "execution_count": 15,
   "metadata": {
    "collapsed": false
   },
   "outputs": [
    {
     "data": {
      "text/html": [
       "<div>\n",
       "<table border=\"1\" class=\"dataframe\">\n",
       "  <thead>\n",
       "    <tr style=\"text-align: right;\">\n",
       "      <th></th>\n",
       "      <th>click</th>\n",
       "      <th>useragent</th>\n",
       "      <th>usertag</th>\n",
       "      <th>userid</th>\n",
       "      <th>weekday</th>\n",
       "      <th>hour</th>\n",
       "      <th>intercept</th>\n",
       "      <th>adexchange</th>\n",
       "      <th>weekday</th>\n",
       "      <th>hour</th>\n",
       "      <th>city</th>\n",
       "      <th>region</th>\n",
       "    </tr>\n",
       "  </thead>\n",
       "  <tbody>\n",
       "    <tr>\n",
       "      <th>click</th>\n",
       "      <td>1.000000</td>\n",
       "      <td>-0.009471</td>\n",
       "      <td>-0.005752</td>\n",
       "      <td>-0.001800</td>\n",
       "      <td>0.001420</td>\n",
       "      <td>0.001790</td>\n",
       "      <td>NaN</td>\n",
       "      <td>-0.005752</td>\n",
       "      <td>0.001420</td>\n",
       "      <td>0.001790</td>\n",
       "      <td>-0.000419</td>\n",
       "      <td>-0.000244</td>\n",
       "    </tr>\n",
       "    <tr>\n",
       "      <th>useragent</th>\n",
       "      <td>-0.009471</td>\n",
       "      <td>1.000000</td>\n",
       "      <td>0.043784</td>\n",
       "      <td>0.100422</td>\n",
       "      <td>-0.008815</td>\n",
       "      <td>-0.033304</td>\n",
       "      <td>NaN</td>\n",
       "      <td>0.043784</td>\n",
       "      <td>-0.008815</td>\n",
       "      <td>-0.033304</td>\n",
       "      <td>0.019590</td>\n",
       "      <td>0.017450</td>\n",
       "    </tr>\n",
       "    <tr>\n",
       "      <th>usertag</th>\n",
       "      <td>-0.005752</td>\n",
       "      <td>0.043784</td>\n",
       "      <td>1.000000</td>\n",
       "      <td>-0.014228</td>\n",
       "      <td>-0.092711</td>\n",
       "      <td>0.041467</td>\n",
       "      <td>NaN</td>\n",
       "      <td>1.000000</td>\n",
       "      <td>-0.092711</td>\n",
       "      <td>0.041467</td>\n",
       "      <td>-0.039271</td>\n",
       "      <td>-0.039714</td>\n",
       "    </tr>\n",
       "    <tr>\n",
       "      <th>userid</th>\n",
       "      <td>-0.001800</td>\n",
       "      <td>0.100422</td>\n",
       "      <td>-0.014228</td>\n",
       "      <td>1.000000</td>\n",
       "      <td>0.000220</td>\n",
       "      <td>-0.020138</td>\n",
       "      <td>NaN</td>\n",
       "      <td>-0.014228</td>\n",
       "      <td>0.000220</td>\n",
       "      <td>-0.020138</td>\n",
       "      <td>-0.057944</td>\n",
       "      <td>-0.057178</td>\n",
       "    </tr>\n",
       "    <tr>\n",
       "      <th>weekday</th>\n",
       "      <td>0.001420</td>\n",
       "      <td>-0.008815</td>\n",
       "      <td>-0.092711</td>\n",
       "      <td>0.000220</td>\n",
       "      <td>1.000000</td>\n",
       "      <td>-0.108740</td>\n",
       "      <td>NaN</td>\n",
       "      <td>-0.092711</td>\n",
       "      <td>1.000000</td>\n",
       "      <td>-0.108740</td>\n",
       "      <td>0.011499</td>\n",
       "      <td>0.011219</td>\n",
       "    </tr>\n",
       "    <tr>\n",
       "      <th>hour</th>\n",
       "      <td>0.001790</td>\n",
       "      <td>-0.033304</td>\n",
       "      <td>0.041467</td>\n",
       "      <td>-0.020138</td>\n",
       "      <td>-0.108740</td>\n",
       "      <td>1.000000</td>\n",
       "      <td>NaN</td>\n",
       "      <td>0.041467</td>\n",
       "      <td>-0.108740</td>\n",
       "      <td>1.000000</td>\n",
       "      <td>-0.037935</td>\n",
       "      <td>-0.038821</td>\n",
       "    </tr>\n",
       "    <tr>\n",
       "      <th>intercept</th>\n",
       "      <td>NaN</td>\n",
       "      <td>NaN</td>\n",
       "      <td>NaN</td>\n",
       "      <td>NaN</td>\n",
       "      <td>NaN</td>\n",
       "      <td>NaN</td>\n",
       "      <td>NaN</td>\n",
       "      <td>NaN</td>\n",
       "      <td>NaN</td>\n",
       "      <td>NaN</td>\n",
       "      <td>NaN</td>\n",
       "      <td>NaN</td>\n",
       "    </tr>\n",
       "    <tr>\n",
       "      <th>adexchange</th>\n",
       "      <td>-0.005752</td>\n",
       "      <td>0.043784</td>\n",
       "      <td>1.000000</td>\n",
       "      <td>-0.014228</td>\n",
       "      <td>-0.092711</td>\n",
       "      <td>0.041467</td>\n",
       "      <td>NaN</td>\n",
       "      <td>1.000000</td>\n",
       "      <td>-0.092711</td>\n",
       "      <td>0.041467</td>\n",
       "      <td>-0.039271</td>\n",
       "      <td>-0.039714</td>\n",
       "    </tr>\n",
       "    <tr>\n",
       "      <th>weekday</th>\n",
       "      <td>0.001420</td>\n",
       "      <td>-0.008815</td>\n",
       "      <td>-0.092711</td>\n",
       "      <td>0.000220</td>\n",
       "      <td>1.000000</td>\n",
       "      <td>-0.108740</td>\n",
       "      <td>NaN</td>\n",
       "      <td>-0.092711</td>\n",
       "      <td>1.000000</td>\n",
       "      <td>-0.108740</td>\n",
       "      <td>0.011499</td>\n",
       "      <td>0.011219</td>\n",
       "    </tr>\n",
       "    <tr>\n",
       "      <th>hour</th>\n",
       "      <td>0.001790</td>\n",
       "      <td>-0.033304</td>\n",
       "      <td>0.041467</td>\n",
       "      <td>-0.020138</td>\n",
       "      <td>-0.108740</td>\n",
       "      <td>1.000000</td>\n",
       "      <td>NaN</td>\n",
       "      <td>0.041467</td>\n",
       "      <td>-0.108740</td>\n",
       "      <td>1.000000</td>\n",
       "      <td>-0.037935</td>\n",
       "      <td>-0.038821</td>\n",
       "    </tr>\n",
       "    <tr>\n",
       "      <th>city</th>\n",
       "      <td>-0.000419</td>\n",
       "      <td>0.019590</td>\n",
       "      <td>-0.039271</td>\n",
       "      <td>-0.057944</td>\n",
       "      <td>0.011499</td>\n",
       "      <td>-0.037935</td>\n",
       "      <td>NaN</td>\n",
       "      <td>-0.039271</td>\n",
       "      <td>0.011499</td>\n",
       "      <td>-0.037935</td>\n",
       "      <td>1.000000</td>\n",
       "      <td>0.995335</td>\n",
       "    </tr>\n",
       "    <tr>\n",
       "      <th>region</th>\n",
       "      <td>-0.000244</td>\n",
       "      <td>0.017450</td>\n",
       "      <td>-0.039714</td>\n",
       "      <td>-0.057178</td>\n",
       "      <td>0.011219</td>\n",
       "      <td>-0.038821</td>\n",
       "      <td>NaN</td>\n",
       "      <td>-0.039714</td>\n",
       "      <td>0.011219</td>\n",
       "      <td>-0.038821</td>\n",
       "      <td>0.995335</td>\n",
       "      <td>1.000000</td>\n",
       "    </tr>\n",
       "  </tbody>\n",
       "</table>\n",
       "</div>"
      ],
      "text/plain": [
       "               click  useragent   usertag    userid   weekday      hour  \\\n",
       "click       1.000000  -0.009471 -0.005752 -0.001800  0.001420  0.001790   \n",
       "useragent  -0.009471   1.000000  0.043784  0.100422 -0.008815 -0.033304   \n",
       "usertag    -0.005752   0.043784  1.000000 -0.014228 -0.092711  0.041467   \n",
       "userid     -0.001800   0.100422 -0.014228  1.000000  0.000220 -0.020138   \n",
       "weekday     0.001420  -0.008815 -0.092711  0.000220  1.000000 -0.108740   \n",
       "hour        0.001790  -0.033304  0.041467 -0.020138 -0.108740  1.000000   \n",
       "intercept        NaN        NaN       NaN       NaN       NaN       NaN   \n",
       "adexchange -0.005752   0.043784  1.000000 -0.014228 -0.092711  0.041467   \n",
       "weekday     0.001420  -0.008815 -0.092711  0.000220  1.000000 -0.108740   \n",
       "hour        0.001790  -0.033304  0.041467 -0.020138 -0.108740  1.000000   \n",
       "city       -0.000419   0.019590 -0.039271 -0.057944  0.011499 -0.037935   \n",
       "region     -0.000244   0.017450 -0.039714 -0.057178  0.011219 -0.038821   \n",
       "\n",
       "            intercept  adexchange   weekday      hour      city    region  \n",
       "click             NaN   -0.005752  0.001420  0.001790 -0.000419 -0.000244  \n",
       "useragent         NaN    0.043784 -0.008815 -0.033304  0.019590  0.017450  \n",
       "usertag           NaN    1.000000 -0.092711  0.041467 -0.039271 -0.039714  \n",
       "userid            NaN   -0.014228  0.000220 -0.020138 -0.057944 -0.057178  \n",
       "weekday           NaN   -0.092711  1.000000 -0.108740  0.011499  0.011219  \n",
       "hour              NaN    0.041467 -0.108740  1.000000 -0.037935 -0.038821  \n",
       "intercept         NaN         NaN       NaN       NaN       NaN       NaN  \n",
       "adexchange        NaN    1.000000 -0.092711  0.041467 -0.039271 -0.039714  \n",
       "weekday           NaN   -0.092711  1.000000 -0.108740  0.011499  0.011219  \n",
       "hour              NaN    0.041467 -0.108740  1.000000 -0.037935 -0.038821  \n",
       "city              NaN   -0.039271  0.011499 -0.037935  1.000000  0.995335  \n",
       "region            NaN   -0.039714  0.011219 -0.038821  0.995335  1.000000  "
      ]
     },
     "execution_count": 15,
     "metadata": {},
     "output_type": "execute_result"
    }
   ],
   "source": [
    "validation_sample.corr(method='spearman')"
   ]
  },
  {
   "cell_type": "code",
   "execution_count": 16,
   "metadata": {
    "collapsed": true
   },
   "outputs": [],
   "source": [
    "x_validation=validation_sample.drop(['click'],axis=1)"
   ]
  },
  {
   "cell_type": "code",
   "execution_count": 17,
   "metadata": {
    "collapsed": false
   },
   "outputs": [
    {
     "data": {
      "text/plain": [
       "0    299523\n",
       "1       226\n",
       "Name: click, dtype: int64"
      ]
     },
     "execution_count": 17,
     "metadata": {},
     "output_type": "execute_result"
    }
   ],
   "source": [
    "validation.click.value_counts()"
   ]
  },
  {
   "cell_type": "markdown",
   "metadata": {},
   "source": [
    "# Decision tree"
   ]
  },
  {
   "cell_type": "code",
   "execution_count": 18,
   "metadata": {
    "collapsed": false
   },
   "outputs": [
    {
     "data": {
      "text/plain": [
       "0    299523\n",
       "1       226\n",
       "Name: click, dtype: int64"
      ]
     },
     "execution_count": 18,
     "metadata": {},
     "output_type": "execute_result"
    }
   ],
   "source": [
    "decision_tree=DecisionTreeClassifier()\n",
    "decision_tree.fit(x_validation, validation.click)\n",
    "decision_tree.score(x_validation, validation.click)\n",
    "prediction=decision_tree.predict(x_validation)\n",
    "prediction=pd.DataFrame(prediction)\n",
    "prediction.columns=['click']\n",
    "prediction.click.value_counts()"
   ]
  },
  {
   "cell_type": "code",
   "execution_count": 19,
   "metadata": {
    "collapsed": true
   },
   "outputs": [],
   "source": [
    "test.loc[test.adexchange=='3','adexchange':]=3\n",
    "test.loc[test.adexchange=='2','adexchange':]=2\n",
    "test.loc[test.adexchange=='1','adexchange':]=1\n",
    "test.loc[test.adexchange=='4','adexchange':]=4\n",
    "test.loc[test.adexchange=='null','adexchange':]=0"
   ]
  },
  {
   "cell_type": "code",
   "execution_count": 20,
   "metadata": {
    "collapsed": true
   },
   "outputs": [],
   "source": [
    "test['userid']=label_encoder.fit_transform(test['userid'])\n",
    "test['useragent']=label_encoder.fit_transform(test['useragent'])\n",
    "test['usertag']=label_encoder.fit_transform(test['usertag'])\n",
    "test['adexchange']=label_encoder.fit_transform(test['adexchange'])"
   ]
  },
  {
   "cell_type": "code",
   "execution_count": 21,
   "metadata": {
    "collapsed": true
   },
   "outputs": [],
   "source": [
    "test['intercept']=1\n",
    "feature=['useragent','usertag','userid','weekday','hour','intercept','adexchange','weekday','hour','city','region']\n",
    "test_sample=test[feature]"
   ]
  },
  {
   "cell_type": "code",
   "execution_count": 22,
   "metadata": {
    "collapsed": false
   },
   "outputs": [
    {
     "data": {
      "text/plain": [
       "0    299415\n",
       "1       334\n",
       "Name: click, dtype: int64"
      ]
     },
     "execution_count": 22,
     "metadata": {},
     "output_type": "execute_result"
    }
   ],
   "source": [
    "prediction_test=decision_tree.predict(test_sample)\n",
    "prediction_test=pd.DataFrame(prediction_test)\n",
    "prediction_test.columns=['click']\n",
    "prediction_test.click.value_counts()"
   ]
  },
  {
   "cell_type": "code",
   "execution_count": 23,
   "metadata": {
    "collapsed": false
   },
   "outputs": [
    {
     "data": {
      "text/plain": [
       " 0    299189\n",
       " 1       334\n",
       "-1       226\n",
       "Name: click, dtype: int64"
      ]
     },
     "execution_count": 23,
     "metadata": {},
     "output_type": "execute_result"
    }
   ],
   "source": [
    "Difference=prediction_test.click-prediction.click\n",
    "Difference=pd.DataFrame(Difference)\n",
    "Difference.columns=['click']\n",
    "Difference.click.value_counts()"
   ]
  },
  {
   "cell_type": "code",
   "execution_count": 24,
   "metadata": {
    "collapsed": false
   },
   "outputs": [
    {
     "data": {
      "text/plain": [
       "0.998131770247774"
      ]
     },
     "execution_count": 24,
     "metadata": {},
     "output_type": "execute_result"
    }
   ],
   "source": [
    "Real_accuracy=Difference.click.value_counts()[0]/(Difference.click.value_counts()[1]+Difference.click.value_counts()[-1]+\n",
    "                                                 Difference.click.value_counts()[0])\n",
    "Real_accuracy"
   ]
  },
  {
   "cell_type": "code",
   "execution_count": 25,
   "metadata": {
    "collapsed": false
   },
   "outputs": [
    {
     "name": "stdout",
     "output_type": "stream",
     "text": [
      "<class 'pandas.core.frame.DataFrame'>\n",
      "RangeIndex: 299749 entries, 0 to 299748\n",
      "Data columns (total 25 columns):\n",
      "click             299749 non-null int64\n",
      "weekday           299749 non-null int64\n",
      "hour              299749 non-null int64\n",
      "bidid             299749 non-null object\n",
      "logtype           299749 non-null int64\n",
      "userid            299749 non-null int64\n",
      "useragent         299749 non-null int64\n",
      "IP                299749 non-null object\n",
      "region            299749 non-null int64\n",
      "city              299749 non-null int64\n",
      "adexchange        299749 non-null int64\n",
      "domain            299749 non-null object\n",
      "url               299749 non-null object\n",
      "urlid             299749 non-null object\n",
      "slotid            299749 non-null object\n",
      "slotwidth         299749 non-null int64\n",
      "slotheight        299749 non-null int64\n",
      "slotvisibility    299749 non-null object\n",
      "slotformat        299749 non-null object\n",
      "slotprice         299749 non-null int64\n",
      "creative          299749 non-null object\n",
      "keypage           299749 non-null object\n",
      "advertiser        299749 non-null int64\n",
      "usertag           299749 non-null int64\n",
      "intercept         299749 non-null int64\n",
      "dtypes: int64(15), object(10)\n",
      "memory usage: 57.2+ MB\n"
     ]
    }
   ],
   "source": [
    "new_file=pd.concat([prediction_test,test],axis=1)\n",
    "new_file.info()"
   ]
  },
  {
   "cell_type": "markdown",
   "metadata": {},
   "source": [
    "## method 1 for decision tree"
   ]
  },
  {
   "cell_type": "code",
   "execution_count": 27,
   "metadata": {
    "collapsed": false
   },
   "outputs": [
    {
     "data": {
      "text/plain": [
       "0    299415\n",
       "1       334\n",
       "Name: click, dtype: int64"
      ]
     },
     "execution_count": 27,
     "metadata": {},
     "output_type": "execute_result"
    }
   ],
   "source": [
    "new_file.click.value_counts()"
   ]
  },
  {
   "cell_type": "code",
   "execution_count": 28,
   "metadata": {
    "collapsed": false
   },
   "outputs": [
    {
     "data": {
      "text/plain": [
       "0.0011142656022205245"
      ]
     },
     "execution_count": 28,
     "metadata": {},
     "output_type": "execute_result"
    }
   ],
   "source": [
    "predicted_CTR=new_file.click.value_counts()[1]/(new_file.click.value_counts()[1]+new_file.click.value_counts()[0])\n",
    "predicted_CTR"
   ]
  },
  {
   "cell_type": "code",
   "execution_count": 29,
   "metadata": {
    "collapsed": false
   },
   "outputs": [
    {
     "data": {
      "text/plain": [
       "0    299523\n",
       "1       226\n",
       "Name: click, dtype: int64"
      ]
     },
     "execution_count": 29,
     "metadata": {},
     "output_type": "execute_result"
    }
   ],
   "source": [
    "validation.click.value_counts()"
   ]
  },
  {
   "cell_type": "code",
   "execution_count": 30,
   "metadata": {
    "collapsed": false
   },
   "outputs": [
    {
     "data": {
      "text/plain": [
       "0.00075396415000550463"
      ]
     },
     "execution_count": 30,
     "metadata": {},
     "output_type": "execute_result"
    }
   ],
   "source": [
    "validation_CTR=validation.click.value_counts()[1]/(validation.click.value_counts()[1]+validation.click.value_counts()[0])\n",
    "validation_CTR"
   ]
  },
  {
   "cell_type": "code",
   "execution_count": 31,
   "metadata": {
    "collapsed": false
   },
   "outputs": [
    {
     "data": {
      "text/plain": [
       " 0    299198\n",
       " 1       325\n",
       "-1       226\n",
       "Name: click, dtype: int64"
      ]
     },
     "execution_count": 31,
     "metadata": {},
     "output_type": "execute_result"
    }
   ],
   "source": [
    "(new_file.click-validation.click).value_counts()"
   ]
  },
  {
   "cell_type": "code",
   "execution_count": 32,
   "metadata": {
    "collapsed": false
   },
   "outputs": [
    {
     "data": {
      "text/plain": [
       "3    99896\n",
       "2    92986\n",
       "1    91118\n",
       "4     9715\n",
       "0     6034\n",
       "Name: advertiser, dtype: int64"
      ]
     },
     "execution_count": 32,
     "metadata": {},
     "output_type": "execute_result"
    }
   ],
   "source": [
    "validation.advertiser.value_counts()"
   ]
  },
  {
   "cell_type": "code",
   "execution_count": 35,
   "metadata": {
    "collapsed": false
   },
   "outputs": [
    {
     "data": {
      "text/plain": [
       " 0    59913\n",
       " 1       62\n",
       "-1       50\n",
       "Name: click, dtype: int64"
      ]
     },
     "execution_count": 35,
     "metadata": {},
     "output_type": "execute_result"
    }
   ],
   "source": [
    "validation_two=pd.concat([new_file.click, validation.advertiser,validation.payprice],axis=1)\n",
    "(validation_two[validation_two.advertiser==1458].click-validation[validation.advertiser==1458].click).value_counts()"
   ]
  },
  {
   "cell_type": "code",
   "execution_count": 36,
   "metadata": {
    "collapsed": false
   },
   "outputs": [
    {
     "data": {
      "text/plain": [
       " 0    5999\n",
       "-1      26\n",
       " 1       9\n",
       "Name: click, dtype: int64"
      ]
     },
     "execution_count": 36,
     "metadata": {},
     "output_type": "execute_result"
    }
   ],
   "source": [
    "(validation_two[validation_two.advertiser==2997].click-validation[validation.advertiser==2997].click).value_counts()"
   ]
  },
  {
   "cell_type": "code",
   "execution_count": 37,
   "metadata": {
    "collapsed": false
   },
   "outputs": [
    {
     "data": {
      "text/plain": [
       " 0    33791\n",
       " 1       35\n",
       "-1       27\n",
       "Name: click, dtype: int64"
      ]
     },
     "execution_count": 37,
     "metadata": {},
     "output_type": "execute_result"
    }
   ],
   "source": [
    "(validation_two[validation_two.advertiser==3358].click-validation[validation.advertiser==3358].click).value_counts()"
   ]
  },
  {
   "cell_type": "code",
   "execution_count": 38,
   "metadata": {
    "collapsed": false
   },
   "outputs": [
    {
     "data": {
      "text/plain": [
       " 0    55103\n",
       " 1       60\n",
       "-1       33\n",
       "Name: click, dtype: int64"
      ]
     },
     "execution_count": 38,
     "metadata": {},
     "output_type": "execute_result"
    }
   ],
   "source": [
    "(validation_two[validation_two.advertiser==3386].click-validation[validation.advertiser==3386].click).value_counts()"
   ]
  },
  {
   "cell_type": "code",
   "execution_count": 39,
   "metadata": {
    "collapsed": false
   },
   "outputs": [
    {
     "data": {
      "text/plain": [
       " 0    13348\n",
       " 1       17\n",
       "-1        5\n",
       "Name: click, dtype: int64"
      ]
     },
     "execution_count": 39,
     "metadata": {},
     "output_type": "execute_result"
    }
   ],
   "source": [
    "(validation_two[validation_two.advertiser==2261].click-validation[validation.advertiser==2261].click).value_counts()"
   ]
  },
  {
   "cell_type": "code",
   "execution_count": 40,
   "metadata": {
    "collapsed": false
   },
   "outputs": [
    {
     "data": {
      "text/plain": [
       "24045218"
      ]
     },
     "execution_count": 40,
     "metadata": {},
     "output_type": "execute_result"
    }
   ],
   "source": [
    "sum(validation_two.payprice)"
   ]
  },
  {
   "cell_type": "code",
   "execution_count": 41,
   "metadata": {
    "collapsed": false
   },
   "outputs": [
    {
     "data": {
      "text/plain": [
       "24270"
      ]
     },
     "execution_count": 41,
     "metadata": {},
     "output_type": "execute_result"
    }
   ],
   "source": [
    "sum(validation_two[validation_two.click==1].payprice)"
   ]
  },
  {
   "cell_type": "code",
   "execution_count": 42,
   "metadata": {
    "collapsed": false
   },
   "outputs": [
    {
     "name": "stderr",
     "output_type": "stream",
     "text": [
      "C:\\Users\\yifeichongtian\\Anaconda3\\lib\\site-packages\\ipykernel\\__main__.py:1: UserWarning: Boolean Series key will be reindexed to match DataFrame index.\n",
      "  if __name__ == '__main__':\n"
     ]
    },
    {
     "data": {
      "text/plain": [
       "4870"
      ]
     },
     "execution_count": 42,
     "metadata": {},
     "output_type": "execute_result"
    }
   ],
   "source": [
    "sum(validation[validation.advertiser==1458][validation.click==1].payprice)"
   ]
  },
  {
   "cell_type": "code",
   "execution_count": 43,
   "metadata": {
    "collapsed": false
   },
   "outputs": [
    {
     "data": {
      "text/plain": [
       "0    299424\n",
       "1       325\n",
       "Name: click, dtype: int64"
      ]
     },
     "execution_count": 43,
     "metadata": {},
     "output_type": "execute_result"
    }
   ],
   "source": [
    "validation_two.click.value_counts()"
   ]
  },
  {
   "cell_type": "code",
   "execution_count": 56,
   "metadata": {
    "collapsed": false
   },
   "outputs": [
    {
     "data": {
      "text/plain": [
       "372.0    60025\n",
       "Name: bidprice, dtype: int64"
      ]
     },
     "execution_count": 56,
     "metadata": {},
     "output_type": "execute_result"
    }
   ],
   "source": [
    "pCTR_1458=validation_two[validation_two.advertiser==1458].click.value_counts()[1]/(validation_two[validation_two.advertiser==1458].click.value_counts()[1]\n",
    "                                                                                  +validation_two[validation_two.advertiser==1458].click.value_counts()[0])\n",
    "CTR_1458=validation[validation.advertiser==1458].click.value_counts()[1]/(validation[validation.advertiser==1458].click.value_counts()[1]\n",
    "                                                                          +validation[validation.advertiser==1458].click.value_counts()[0])\n",
    "\n",
    "bidprice_1458=validation[validation.advertiser==1458].bidprice*pCTR_1458/CTR_1458\n",
    "bidprice_1458.value_counts()"
   ]
  },
  {
   "cell_type": "code",
   "execution_count": 57,
   "metadata": {
    "collapsed": false
   },
   "outputs": [
    {
     "data": {
      "text/plain": [
       "545.454545    55196\n",
       "Name: bidprice, dtype: int64"
      ]
     },
     "execution_count": 57,
     "metadata": {},
     "output_type": "execute_result"
    }
   ],
   "source": [
    "pCTR_3386=validation_two[validation_two.advertiser==3386].click.value_counts()[1]/(validation_two[validation_two.advertiser==3386].click.value_counts()[1]\n",
    "                                                                                  +validation_two[validation_two.advertiser==3386].click.value_counts()[0])\n",
    "CTR_3386=validation[validation.advertiser==3386].click.value_counts()[1]/(validation[validation.advertiser==3386].click.value_counts()[1]\n",
    "                                                                          +validation[validation.advertiser==3386].click.value_counts()[0])\n",
    "\n",
    "bidprice_3386=validation[validation.advertiser==3386].bidprice*pCTR_3386/CTR_3386\n",
    "bidprice_3386.value_counts()"
   ]
  },
  {
   "cell_type": "code",
   "execution_count": 58,
   "metadata": {
    "collapsed": false
   },
   "outputs": [
    {
     "data": {
      "text/plain": [
       "208.866667    19350\n",
       "206.266667    17454\n",
       "196.733333    13577\n",
       "Name: bidprice, dtype: int64"
      ]
     },
     "execution_count": 58,
     "metadata": {},
     "output_type": "execute_result"
    }
   ],
   "source": [
    "pCTR_3427=validation_two[validation_two.advertiser==3427].click.value_counts()[1]/(validation_two[validation_two.advertiser==3427].click.value_counts()[1]\n",
    "                                                                                  +validation_two[validation_two.advertiser==3427].click.value_counts()[0])\n",
    "CTR_3427=validation[validation.advertiser==3427].click.value_counts()[1]/(validation[validation.advertiser==3427].click.value_counts()[1]\n",
    "                                                                          +validation[validation.advertiser==3427].click.value_counts()[0])\n",
    "\n",
    "bidprice_3427=validation[validation.advertiser==3427].bidprice*pCTR_3427/CTR_3427\n",
    "bidprice_3427.value_counts()"
   ]
  },
  {
   "cell_type": "code",
   "execution_count": 59,
   "metadata": {
    "collapsed": false
   },
   "outputs": [
    {
     "data": {
      "text/plain": [
       "937.846154    14636\n",
       "919.384615    13086\n",
       "878.769231    11117\n",
       "Name: bidprice, dtype: int64"
      ]
     },
     "execution_count": 59,
     "metadata": {},
     "output_type": "execute_result"
    }
   ],
   "source": [
    "pCTR_3476=validation_two[validation_two.advertiser==3476].click.value_counts()[1]/(validation_two[validation_two.advertiser==3476].click.value_counts()[1]\n",
    "                                                                                  +validation_two[validation_two.advertiser==3476].click.value_counts()[0])\n",
    "CTR_3476=validation[validation.advertiser==3476].click.value_counts()[1]/(validation[validation.advertiser==3476].click.value_counts()[1]\n",
    "                                                                          +validation[validation.advertiser==3476].click.value_counts()[0])\n",
    "\n",
    "bidprice_3476=validation[validation.advertiser==3476].bidprice*pCTR_3476/CTR_3476\n",
    "bidprice_3476.value_counts()"
   ]
  },
  {
   "cell_type": "code",
   "execution_count": 60,
   "metadata": {
    "collapsed": false
   },
   "outputs": [
    {
     "data": {
      "text/plain": [
       "294.259259    17890\n",
       "308.518519    10215\n",
       "312.407407     5748\n",
       "Name: bidprice, dtype: int64"
      ]
     },
     "execution_count": 60,
     "metadata": {},
     "output_type": "execute_result"
    }
   ],
   "source": [
    "pCTR_3358=validation_two[validation_two.advertiser==3358].click.value_counts()[1]/(validation_two[validation_two.advertiser==3358].click.value_counts()[1]\n",
    "                                                                                  +validation_two[validation_two.advertiser==3358].click.value_counts()[0])\n",
    "CTR_3358=validation[validation.advertiser==3358].click.value_counts()[1]/(validation[validation.advertiser==3358].click.value_counts()[1]\n",
    "                                                                          +validation[validation.advertiser==3358].click.value_counts()[0])\n",
    "\n",
    "bidprice_3358=validation[validation.advertiser==3358].bidprice*pCTR_3358/CTR_3358\n",
    "bidprice_3358.value_counts()"
   ]
  },
  {
   "cell_type": "code",
   "execution_count": 61,
   "metadata": {
    "collapsed": false
   },
   "outputs": [
    {
     "data": {
      "text/plain": [
       "661.50    19986\n",
       "623.25     5646\n",
       "Name: bidprice, dtype: int64"
      ]
     },
     "execution_count": 61,
     "metadata": {},
     "output_type": "execute_result"
    }
   ],
   "source": [
    "pCTR_2821=validation_two[validation_two.advertiser==2821].click.value_counts()[1]/(validation_two[validation_two.advertiser==2821].click.value_counts()[1]\n",
    "                                                                                  +validation_two[validation_two.advertiser==2821].click.value_counts()[0])\n",
    "CTR_2821=validation[validation.advertiser==2821].click.value_counts()[1]/(validation[validation.advertiser==2821].click.value_counts()[1]\n",
    "                                                                          +validation[validation.advertiser==2821].click.value_counts()[0])\n",
    "\n",
    "bidprice_2821=validation[validation.advertiser==2821].bidprice*pCTR_2821/CTR_2821\n",
    "bidprice_2821.value_counts()"
   ]
  },
  {
   "cell_type": "code",
   "execution_count": 62,
   "metadata": {
    "collapsed": false
   },
   "outputs": [
    {
     "data": {
      "text/plain": [
       "507.818182    10679\n",
       "478.454545     5740\n",
       "Name: bidprice, dtype: int64"
      ]
     },
     "execution_count": 62,
     "metadata": {},
     "output_type": "execute_result"
    }
   ],
   "source": [
    "pCTR_2259=validation_two[validation_two.advertiser==2259].click.value_counts()[1]/(validation_two[validation_two.advertiser==2259].click.value_counts()[1]\n",
    "                                                                                  +validation_two[validation_two.advertiser==2259].click.value_counts()[0])\n",
    "CTR_2259=validation[validation.advertiser==2259].click.value_counts()[1]/(validation[validation.advertiser==2259].click.value_counts()[1]\n",
    "                                                                          +validation[validation.advertiser==2259].click.value_counts()[0])\n",
    "\n",
    "bidprice_2259=validation[validation.advertiser==2259].bidprice*pCTR_2259/CTR_2259\n",
    "bidprice_2259.value_counts()"
   ]
  },
  {
   "cell_type": "code",
   "execution_count": 63,
   "metadata": {
    "collapsed": false
   },
   "outputs": [
    {
     "data": {
      "text/plain": [
       "999.6    8591\n",
       "941.8    4779\n",
       "Name: bidprice, dtype: int64"
      ]
     },
     "execution_count": 63,
     "metadata": {},
     "output_type": "execute_result"
    }
   ],
   "source": [
    "pCTR_2261=validation_two[validation_two.advertiser==2261].click.value_counts()[1]/(validation_two[validation_two.advertiser==2261].click.value_counts()[1]\n",
    "                                                                                  +validation_two[validation_two.advertiser==2261].click.value_counts()[0])\n",
    "CTR_2261=validation[validation.advertiser==2261].click.value_counts()[1]/(validation[validation.advertiser==2261].click.value_counts()[1]\n",
    "                                                                          +validation[validation.advertiser==2261].click.value_counts()[0])\n",
    "\n",
    "bidprice_2261=validation[validation.advertiser==2261].bidprice*pCTR_2261/CTR_2261\n",
    "bidprice_2261.value_counts()"
   ]
  },
  {
   "cell_type": "code",
   "execution_count": 64,
   "metadata": {
    "collapsed": false
   },
   "outputs": [
    {
     "data": {
      "text/plain": [
       "1022.769231    6034\n",
       "Name: bidprice, dtype: int64"
      ]
     },
     "execution_count": 64,
     "metadata": {},
     "output_type": "execute_result"
    }
   ],
   "source": [
    "pCTR_2997=validation_two[validation_two.advertiser==2997].click.value_counts()[1]/(validation_two[validation_two.advertiser==2997].click.value_counts()[1]\n",
    "                                                                                  +validation_two[validation_two.advertiser==2997].click.value_counts()[0])\n",
    "CTR_2997=validation[validation.advertiser==2997].click.value_counts()[1]/(validation[validation.advertiser==2997].click.value_counts()[1]\n",
    "                                                                          +validation[validation.advertiser==2997].click.value_counts()[0])\n",
    "\n",
    "bidprice_2997=validation[validation.advertiser==2997].bidprice*pCTR_3476/CTR_3476\n",
    "bidprice_2997.value_counts()"
   ]
  },
  {
   "cell_type": "code",
   "execution_count": 78,
   "metadata": {
    "collapsed": false
   },
   "outputs": [
    {
     "name": "stderr",
     "output_type": "stream",
     "text": [
      "C:\\Users\\yifeichongtian\\Anaconda3\\lib\\site-packages\\pandas\\core\\generic.py:2701: SettingWithCopyWarning: \n",
      "A value is trying to be set on a copy of a slice from a DataFrame.\n",
      "Try using .loc[row_indexer,col_indexer] = value instead\n",
      "\n",
      "See the caveats in the documentation: http://pandas.pydata.org/pandas-docs/stable/indexing.html#indexing-view-versus-copy\n",
      "  self[name] = value\n"
     ]
    }
   ],
   "source": [
    "validation_two['bidprice']=1\n",
    "validation_two[validation_two.advertiser==1458].bidprice==372\n",
    "validation_two[validation_two.advertiser==3386].bidprice=bidprice_3386\n",
    "validation_two[validation_two.advertiser==3427].bidprice=bidprice_3427\n",
    "validation_two[validation_two.advertiser==3476].bidprice=bidprice_3476\n",
    "validation_two[validation_two.advertiser==3358].bidprice=bidprice_3358\n",
    "validation_two[validation_two.advertiser==2821].bidprice=bidprice_2821\n",
    "validation_two[validation_two.advertiser==2259].bidprice=bidprice_2259\n",
    "validation_two[validation_two.advertiser==2261].bidprice=bidprice_2261\n",
    "validation_two[validation_two.advertiser==2997].bidprice=bidprice_2997"
   ]
  },
  {
   "cell_type": "code",
   "execution_count": 79,
   "metadata": {
    "collapsed": false
   },
   "outputs": [
    {
     "data": {
      "text/plain": [
       "1    299749\n",
       "Name: bidprice, dtype: int64"
      ]
     },
     "execution_count": 79,
     "metadata": {},
     "output_type": "execute_result"
    }
   ],
   "source": [
    "validation_two.bidprice.value_counts()"
   ]
  },
  {
   "cell_type": "code",
   "execution_count": 46,
   "metadata": {
    "collapsed": false
   },
   "outputs": [
    {
     "data": {
      "text/plain": [
       "1458    60025\n",
       "3386    55196\n",
       "3427    50381\n",
       "3476    38839\n",
       "3358    33853\n",
       "2821    25632\n",
       "2259    16419\n",
       "2261    13370\n",
       "2997     6034\n",
       "Name: advertiser, dtype: int64"
      ]
     },
     "execution_count": 46,
     "metadata": {},
     "output_type": "execute_result"
    }
   ],
   "source": [
    "validation_two.advertiser.value_counts()"
   ]
  },
  {
   "cell_type": "markdown",
   "metadata": {},
   "source": [
    "## linear bidding strategy"
   ]
  },
  {
   "cell_type": "code",
   "execution_count": 32,
   "metadata": {
    "collapsed": false
   },
   "outputs": [
    {
     "name": "stdout",
     "output_type": "stream",
     "text": [
      "max : 443.362831858\n",
      "min : 335.477876106\n"
     ]
    }
   ],
   "source": [
    "bidprice_test=new_validation.bidprice*((predicted_CTR/validation_CTR))\n",
    "bidprice_test\n",
    "print ('max',\":\",max(bidprice_test))\n",
    "print ('min',\":\", min(bidprice_test))"
   ]
  },
  {
   "cell_type": "markdown",
   "metadata": {},
   "source": [
    "## exponential bidding strategy"
   ]
  },
  {
   "cell_type": "code",
   "execution_count": 34,
   "metadata": {
    "collapsed": false
   },
   "outputs": [
    {
     "name": "stdout",
     "output_type": "stream",
     "text": [
      "max : 1315.08762957\n",
      "min : 995.082973044\n"
     ]
    }
   ],
   "source": [
    "bidprice_test=new_validation.bidprice*(np.e**(predicted_CTR/validation_CTR))\n",
    "bidprice_test\n",
    "print ('max',\":\",max(bidprice_test))\n",
    "print ('min',\":\", min(bidprice_test))"
   ]
  },
  {
   "cell_type": "markdown",
   "metadata": {},
   "source": [
    "## squared bidding strategy"
   ]
  },
  {
   "cell_type": "code",
   "execution_count": null,
   "metadata": {
    "collapsed": true
   },
   "outputs": [],
   "source": []
  },
  {
   "cell_type": "code",
   "execution_count": 31,
   "metadata": {
    "collapsed": false
   },
   "outputs": [
    {
     "name": "stdout",
     "output_type": "stream",
     "text": [
      "max : 655.235335578\n",
      "min : 495.794737254\n"
     ]
    }
   ],
   "source": [
    "bidprice_test=new_validation.bidprice*((predicted_CTR/validation_CTR)**2)\n",
    "bidprice_test\n",
    "print ('max',\":\",max(bidprice_test))\n",
    "print ('min',\":\", min(bidprice_test))"
   ]
  },
  {
   "cell_type": "code",
   "execution_count": 47,
   "metadata": {
    "collapsed": false
   },
   "outputs": [],
   "source": [
    "final_test=pd.concat([test.bidid,bidprice_test],axis=1)\n",
    "final_test\n",
    "final_test.to_csv('C:/Users/yifeichongtian/Desktop/UCL course material/web economics/report/test_bidprice.csv')"
   ]
  },
  {
   "cell_type": "code",
   "execution_count": 32,
   "metadata": {
    "collapsed": false
   },
   "outputs": [
    {
     "name": "stdout",
     "output_type": "stream",
     "text": [
      "max : 300\n",
      "min : 227\n"
     ]
    }
   ],
   "source": [
    "# for validation bidprice\n",
    "print ('max',\":\",max(new_validation.bidprice))\n",
    "print ('min',\":\", min(new_validation.bidprice))"
   ]
  },
  {
   "cell_type": "code",
   "execution_count": 33,
   "metadata": {
    "collapsed": false
   },
   "outputs": [
    {
     "name": "stdout",
     "output_type": "stream",
     "text": [
      "difference for max : 316.587046754\n",
      "difference for min : 239.550865377\n"
     ]
    }
   ],
   "source": [
    "# difference for max and min between validation and test bidprice\n",
    "difference_max=max(bidprice_test)-max(new_validation.bidprice)\n",
    "difference_min=min(bidprice_test)-min(new_validation.bidprice)\n",
    "print ('difference for max',\":\",difference_max)\n",
    "print ('difference for min',\":\",difference_min)"
   ]
  },
  {
   "cell_type": "code",
   "execution_count": 34,
   "metadata": {
    "collapsed": false
   },
   "outputs": [],
   "source": [
    "new_file=new_file.drop(['advertiser'],axis=1)"
   ]
  },
  {
   "cell_type": "code",
   "execution_count": 35,
   "metadata": {
    "collapsed": false
   },
   "outputs": [
    {
     "name": "stdout",
     "output_type": "stream",
     "text": [
      "649\n",
      "324\n"
     ]
    }
   ],
   "source": [
    "validation_price=pd.DataFrame(validation.payprice)\n",
    "validation_price.columns=['payprice']\n",
    "final=pd.concat([new_file, bidprice_test,validation_price,validation.advertiser],axis=1)\n",
    "feature=['bidid','bidprice','click','payprice','advertiser']\n",
    "final=final[feature]\n",
    "print (sum(final[final.click==1].payprice))\n",
    "print (len(final[final.click==1].bidprice))"
   ]
  },
  {
   "cell_type": "code",
   "execution_count": null,
   "metadata": {
    "collapsed": true
   },
   "outputs": [],
   "source": []
  },
  {
   "cell_type": "code",
   "execution_count": 38,
   "metadata": {
    "collapsed": false
   },
   "outputs": [
    {
     "data": {
      "text/plain": [
       "0    299425\n",
       "1       324\n",
       "Name: click, dtype: int64"
      ]
     },
     "execution_count": 38,
     "metadata": {},
     "output_type": "execute_result"
    }
   ],
   "source": [
    "final.click.value_counts()"
   ]
  },
  {
   "cell_type": "code",
   "execution_count": null,
   "metadata": {
    "collapsed": false
   },
   "outputs": [],
   "source": [
    "final"
   ]
  },
  {
   "cell_type": "code",
   "execution_count": null,
   "metadata": {
    "collapsed": false
   },
   "outputs": [],
   "source": [
    "final.advertiser.value_counts()"
   ]
  },
  {
   "cell_type": "code",
   "execution_count": null,
   "metadata": {
    "collapsed": true
   },
   "outputs": [],
   "source": []
  },
  {
   "cell_type": "code",
   "execution_count": null,
   "metadata": {
    "collapsed": true
   },
   "outputs": [],
   "source": []
  },
  {
   "cell_type": "code",
   "execution_count": null,
   "metadata": {
    "collapsed": true
   },
   "outputs": [],
   "source": []
  },
  {
   "cell_type": "markdown",
   "metadata": {},
   "source": [
    "# Adaboost"
   ]
  },
  {
   "cell_type": "code",
   "execution_count": 80,
   "metadata": {
    "collapsed": false
   },
   "outputs": [
    {
     "data": {
      "text/plain": [
       "AdaBoostClassifier(algorithm='SAMME.R', base_estimator=None,\n",
       "          learning_rate=1.0, n_estimators=50, random_state=None)"
      ]
     },
     "execution_count": 80,
     "metadata": {},
     "output_type": "execute_result"
    }
   ],
   "source": [
    "ada_boost=AdaBoostClassifier()\n",
    "ada_boost.fit(x_validation, validation.click)"
   ]
  },
  {
   "cell_type": "code",
   "execution_count": 81,
   "metadata": {
    "collapsed": false
   },
   "outputs": [
    {
     "data": {
      "text/plain": [
       "0.9992527080991096"
      ]
     },
     "execution_count": 81,
     "metadata": {},
     "output_type": "execute_result"
    }
   ],
   "source": [
    "ada_boost.score(x_validation, validation.click)"
   ]
  },
  {
   "cell_type": "code",
   "execution_count": 82,
   "metadata": {
    "collapsed": false
   },
   "outputs": [
    {
     "data": {
      "text/plain": [
       "0    299747\n",
       "1         2\n",
       "Name: click, dtype: int64"
      ]
     },
     "execution_count": 82,
     "metadata": {},
     "output_type": "execute_result"
    }
   ],
   "source": [
    "prediction=ada_boost.predict(x_validation)\n",
    "prediction=pd.DataFrame(prediction)\n",
    "prediction.columns=['click']\n",
    "prediction.click.value_counts()"
   ]
  },
  {
   "cell_type": "code",
   "execution_count": null,
   "metadata": {
    "collapsed": true
   },
   "outputs": [],
   "source": []
  },
  {
   "cell_type": "code",
   "execution_count": null,
   "metadata": {
    "collapsed": false
   },
   "outputs": [],
   "source": [
    "test.adexchange.value_counts()"
   ]
  },
  {
   "cell_type": "code",
   "execution_count": null,
   "metadata": {
    "collapsed": true
   },
   "outputs": [],
   "source": [
    "test.loc[test.adexchange=='3','adexchange':]=3\n",
    "test.loc[test.adexchange=='2','adexchange':]=2\n",
    "test.loc[test.adexchange=='1','adexchange':]=1\n",
    "test.loc[test.adexchange=='4','adexchange':]=4\n",
    "test.loc[test.adexchange=='null','adexchange':]=0"
   ]
  },
  {
   "cell_type": "code",
   "execution_count": null,
   "metadata": {
    "collapsed": true
   },
   "outputs": [],
   "source": [
    "test['userid']=label_encoder.fit_transform(test['userid'])\n",
    "test['useragent']=label_encoder.fit_transform(test['useragent'])\n",
    "test['usertag']=label_encoder.fit_transform(test['usertag'])\n",
    "test['adexchange']=label_encoder.fit_transform(test['adexchange'])"
   ]
  },
  {
   "cell_type": "code",
   "execution_count": null,
   "metadata": {
    "collapsed": true
   },
   "outputs": [],
   "source": [
    "test['intercept']=1\n",
    "feature=['useragent','usertag','userid','weekday','hour','intercept','adexchange','weekday','hour','city','region']\n",
    "test_sample=test[feature]"
   ]
  },
  {
   "cell_type": "code",
   "execution_count": null,
   "metadata": {
    "collapsed": false
   },
   "outputs": [],
   "source": [
    "prediction_test=ada_boost.predict(test_sample)\n",
    "prediction_test=pd.DataFrame(prediction_test)\n",
    "prediction_test.columns=['click']\n",
    "prediction_test.click.value_counts()"
   ]
  },
  {
   "cell_type": "markdown",
   "metadata": {},
   "source": [
    "# KNN"
   ]
  },
  {
   "cell_type": "code",
   "execution_count": null,
   "metadata": {
    "collapsed": false
   },
   "outputs": [],
   "source": [
    "knn=KNeighborsClassifier(n_neighbors=5)\n",
    "knn.fit(x_validation, validation.click)"
   ]
  },
  {
   "cell_type": "code",
   "execution_count": null,
   "metadata": {
    "collapsed": false
   },
   "outputs": [],
   "source": [
    "accuracy=knn.score(x_validation, validation.click)\n",
    "accuracy"
   ]
  },
  {
   "cell_type": "code",
   "execution_count": null,
   "metadata": {
    "collapsed": false
   },
   "outputs": [],
   "source": [
    "prediction=knn.predict(x_validation)\n",
    "prediction=pd.DataFrame(prediction)\n",
    "prediction.columns=['click']\n",
    "prediction.click.value_counts()"
   ]
  },
  {
   "cell_type": "markdown",
   "metadata": {},
   "source": [
    "# SVM"
   ]
  },
  {
   "cell_type": "code",
   "execution_count": null,
   "metadata": {
    "collapsed": false
   },
   "outputs": [],
   "source": [
    "clf=svm.SVC()\n",
    "clf.fit(x_validation, validation_1458.click)"
   ]
  },
  {
   "cell_type": "code",
   "execution_count": null,
   "metadata": {
    "collapsed": false
   },
   "outputs": [],
   "source": [
    "y_validation=validation_1458.click\n",
    "accuracy=clf.score(x_validation,y_validation)\n",
    "accuracy"
   ]
  },
  {
   "cell_type": "code",
   "execution_count": null,
   "metadata": {
    "collapsed": false
   },
   "outputs": [],
   "source": [
    "test_sample=test[test.advertiser==1458]"
   ]
  },
  {
   "cell_type": "code",
   "execution_count": null,
   "metadata": {
    "collapsed": false
   },
   "outputs": [],
   "source": [
    "test_sample.adexchange.value_counts()"
   ]
  },
  {
   "cell_type": "code",
   "execution_count": null,
   "metadata": {
    "collapsed": false
   },
   "outputs": [],
   "source": [
    "test[test.advertiser==1458].columns"
   ]
  },
  {
   "cell_type": "code",
   "execution_count": null,
   "metadata": {
    "collapsed": false
   },
   "outputs": [],
   "source": [
    "test_sample['useragent']=label_encoder.fit_transform(test_sample['useragent'])\n"
   ]
  },
  {
   "cell_type": "code",
   "execution_count": null,
   "metadata": {
    "collapsed": false
   },
   "outputs": [],
   "source": [
    "# prediction for click value in testset\n",
    "test['intercept']=1\n",
    "feature=['useragent','weekday','hour','intercept']\n",
    "x_test=test_sample[feature]\n",
    "prediction=clf.predict(x_test)\n",
    "prediction"
   ]
  },
  {
   "cell_type": "code",
   "execution_count": null,
   "metadata": {
    "collapsed": false
   },
   "outputs": [],
   "source": [
    "prediction=pd.DataFrame(prediction)\n",
    "prediction.columns=['click']\n",
    "prediction.click.value_counts()"
   ]
  },
  {
   "cell_type": "code",
   "execution_count": null,
   "metadata": {
    "collapsed": true
   },
   "outputs": [],
   "source": []
  },
  {
   "cell_type": "code",
   "execution_count": null,
   "metadata": {
    "collapsed": true
   },
   "outputs": [],
   "source": []
  },
  {
   "cell_type": "code",
   "execution_count": null,
   "metadata": {
    "collapsed": true
   },
   "outputs": [],
   "source": []
  },
  {
   "cell_type": "code",
   "execution_count": null,
   "metadata": {
    "collapsed": true
   },
   "outputs": [],
   "source": []
  }
 ],
 "metadata": {
  "anaconda-cloud": {},
  "kernelspec": {
   "display_name": "Python [conda root]",
   "language": "python",
   "name": "conda-root-py"
  },
  "language_info": {
   "codemirror_mode": {
    "name": "ipython",
    "version": 3
   },
   "file_extension": ".py",
   "mimetype": "text/x-python",
   "name": "python",
   "nbconvert_exporter": "python",
   "pygments_lexer": "ipython3",
   "version": "3.5.2"
  }
 },
 "nbformat": 4,
 "nbformat_minor": 1
}
