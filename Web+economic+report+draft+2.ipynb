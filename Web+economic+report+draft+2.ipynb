{
 "cells": [
  {
   "cell_type": "code",
   "execution_count": 1,
   "metadata": {
    "collapsed": false
   },
   "outputs": [],
   "source": [
    "import pandas as pd\n",
    "import numpy as np\n",
    "from sklearn import svm\n",
    "from sklearn.neighbors import KNeighborsClassifier\n",
    "from sklearn.ensemble import RandomForestClassifier, AdaBoostClassifier\n",
    "from sklearn.tree import DecisionTreeClassifier"
   ]
  },
  {
   "cell_type": "code",
   "execution_count": 2,
   "metadata": {
    "collapsed": false
   },
   "outputs": [],
   "source": [
    "test=pd.read_csv('C:/Users/yifeichongtian/Desktop/UCL course material/web economics/report/dataset/test.csv')"
   ]
  },
  {
   "cell_type": "code",
   "execution_count": 3,
   "metadata": {
    "collapsed": true
   },
   "outputs": [],
   "source": [
    "validation=pd.read_csv('C:/Users/yifeichongtian/Desktop/UCL course material/web economics/report/dataset/validation.csv')"
   ]
  },
  {
   "cell_type": "code",
   "execution_count": 4,
   "metadata": {
    "collapsed": false
   },
   "outputs": [
    {
     "name": "stdout",
     "output_type": "stream",
     "text": [
      "<class 'pandas.core.frame.DataFrame'>\n",
      "RangeIndex: 299749 entries, 0 to 299748\n",
      "Data columns (total 26 columns):\n",
      "click             299749 non-null int64\n",
      "weekday           299749 non-null int64\n",
      "hour              299749 non-null int64\n",
      "bidid             299749 non-null object\n",
      "logtype           299749 non-null int64\n",
      "userid            299749 non-null object\n",
      "useragent         299749 non-null object\n",
      "IP                299749 non-null object\n",
      "region            299749 non-null int64\n",
      "city              299749 non-null int64\n",
      "adexchange        299749 non-null object\n",
      "domain            299749 non-null object\n",
      "url               299749 non-null object\n",
      "urlid             299749 non-null object\n",
      "slotid            299749 non-null object\n",
      "slotwidth         299749 non-null int64\n",
      "slotheight        299749 non-null int64\n",
      "slotvisibility    299749 non-null object\n",
      "slotformat        299749 non-null object\n",
      "slotprice         299749 non-null int64\n",
      "creative          299749 non-null object\n",
      "bidprice          299749 non-null int64\n",
      "payprice          299749 non-null int64\n",
      "keypage           299749 non-null object\n",
      "advertiser        299749 non-null int64\n",
      "usertag           299749 non-null object\n",
      "dtypes: int64(12), object(14)\n",
      "memory usage: 59.5+ MB\n"
     ]
    }
   ],
   "source": [
    "validation.info()"
   ]
  },
  {
   "cell_type": "code",
   "execution_count": 5,
   "metadata": {
    "collapsed": false
   },
   "outputs": [],
   "source": [
    "new_validation=validation['bidprice']\n",
    "new_validation=pd.DataFrame(validation['bidprice'])\n",
    "new_validation.columns=['bidprice']"
   ]
  },
  {
   "cell_type": "code",
   "execution_count": 6,
   "metadata": {
    "collapsed": false
   },
   "outputs": [
    {
     "data": {
      "text/plain": [
       "300    115221\n",
       "294     39256\n",
       "238     38786\n",
       "227     31467\n",
       "241     25098\n",
       "277     22199\n",
       "254     14636\n",
       "249     13086\n",
       "Name: bidprice, dtype: int64"
      ]
     },
     "execution_count": 6,
     "metadata": {},
     "output_type": "execute_result"
    }
   ],
   "source": [
    "new_validation.bidprice.value_counts()"
   ]
  },
  {
   "cell_type": "code",
   "execution_count": 8,
   "metadata": {
    "collapsed": false
   },
   "outputs": [
    {
     "data": {
      "text/plain": [
       "300    115221\n",
       "294     39256\n",
       "238     38786\n",
       "227     31467\n",
       "241     25098\n",
       "277     22199\n",
       "254     14636\n",
       "249     13086\n",
       "Name: bidprice, dtype: int64"
      ]
     },
     "execution_count": 8,
     "metadata": {},
     "output_type": "execute_result"
    }
   ],
   "source": [
    "validation.bidprice.value_counts()"
   ]
  },
  {
   "cell_type": "code",
   "execution_count": 9,
   "metadata": {
    "collapsed": false
   },
   "outputs": [
    {
     "data": {
      "text/plain": [
       "3       99896\n",
       "2       92986\n",
       "1       91118\n",
       "4        9715\n",
       "null     6034\n",
       "Name: adexchange, dtype: int64"
      ]
     },
     "execution_count": 9,
     "metadata": {},
     "output_type": "execute_result"
    }
   ],
   "source": [
    "validation.adexchange.value_counts()"
   ]
  },
  {
   "cell_type": "code",
   "execution_count": 10,
   "metadata": {
    "collapsed": false
   },
   "outputs": [],
   "source": [
    "validation.loc[validation.adexchange=='3','adexchange':]=3\n",
    "validation.loc[validation.adexchange=='2','adexchange':]=2\n",
    "validation.loc[validation.adexchange=='1','adexchange':]=1\n",
    "validation.loc[validation.adexchange=='4','adexchange':]=4\n",
    "validation.loc[validation.adexchange=='null','adexchange':]=0"
   ]
  },
  {
   "cell_type": "code",
   "execution_count": null,
   "metadata": {
    "collapsed": true
   },
   "outputs": [],
   "source": []
  },
  {
   "cell_type": "code",
   "execution_count": 11,
   "metadata": {
    "collapsed": true
   },
   "outputs": [],
   "source": [
    "from sklearn import preprocessing\n",
    "label_encoder = preprocessing.LabelEncoder()"
   ]
  },
  {
   "cell_type": "code",
   "execution_count": 12,
   "metadata": {
    "collapsed": false
   },
   "outputs": [
    {
     "data": {
      "text/plain": [
       "3    99896\n",
       "2    92986\n",
       "1    91118\n",
       "4     9715\n",
       "0     6034\n",
       "Name: adexchange, dtype: int64"
      ]
     },
     "execution_count": 12,
     "metadata": {},
     "output_type": "execute_result"
    }
   ],
   "source": [
    "validation['adexchange'].value_counts()"
   ]
  },
  {
   "cell_type": "code",
   "execution_count": 13,
   "metadata": {
    "collapsed": false
   },
   "outputs": [],
   "source": [
    "validation['userid']=label_encoder.fit_transform(validation['userid'])\n",
    "validation['useragent']=label_encoder.fit_transform(validation['useragent'])\n",
    "validation['usertag']=label_encoder.fit_transform(validation['usertag'])\n",
    "validation['adexchange']=label_encoder.fit_transform(validation['adexchange'])\n",
    "validation['IP']=label_encoder.fit_transform(validation['IP'])"
   ]
  },
  {
   "cell_type": "markdown",
   "metadata": {},
   "source": [
    "'hour','weekday','hour','useragent','IP','adexchange','slotwidth','slotheight',"
   ]
  },
  {
   "cell_type": "code",
   "execution_count": 14,
   "metadata": {
    "collapsed": false
   },
   "outputs": [],
   "source": [
    "validation['intercept']=1\n",
    "feature=['click','useragent','usertag','userid','weekday','hour','intercept','adexchange','weekday','hour','city','region']\n",
    "validation_sample=validation[feature]"
   ]
  },
  {
   "cell_type": "code",
   "execution_count": 15,
   "metadata": {
    "collapsed": false
   },
   "outputs": [
    {
     "data": {
      "text/html": [
       "<div>\n",
       "<table border=\"1\" class=\"dataframe\">\n",
       "  <thead>\n",
       "    <tr style=\"text-align: right;\">\n",
       "      <th></th>\n",
       "      <th>click</th>\n",
       "      <th>useragent</th>\n",
       "      <th>usertag</th>\n",
       "      <th>userid</th>\n",
       "      <th>weekday</th>\n",
       "      <th>hour</th>\n",
       "      <th>intercept</th>\n",
       "      <th>adexchange</th>\n",
       "      <th>weekday</th>\n",
       "      <th>hour</th>\n",
       "      <th>city</th>\n",
       "      <th>region</th>\n",
       "    </tr>\n",
       "  </thead>\n",
       "  <tbody>\n",
       "    <tr>\n",
       "      <th>click</th>\n",
       "      <td>1.000000</td>\n",
       "      <td>-0.009471</td>\n",
       "      <td>-0.005752</td>\n",
       "      <td>-0.001800</td>\n",
       "      <td>0.001420</td>\n",
       "      <td>0.001790</td>\n",
       "      <td>NaN</td>\n",
       "      <td>-0.005752</td>\n",
       "      <td>0.001420</td>\n",
       "      <td>0.001790</td>\n",
       "      <td>-0.000419</td>\n",
       "      <td>-0.000244</td>\n",
       "    </tr>\n",
       "    <tr>\n",
       "      <th>useragent</th>\n",
       "      <td>-0.009471</td>\n",
       "      <td>1.000000</td>\n",
       "      <td>0.043784</td>\n",
       "      <td>0.100422</td>\n",
       "      <td>-0.008815</td>\n",
       "      <td>-0.033304</td>\n",
       "      <td>NaN</td>\n",
       "      <td>0.043784</td>\n",
       "      <td>-0.008815</td>\n",
       "      <td>-0.033304</td>\n",
       "      <td>0.019590</td>\n",
       "      <td>0.017450</td>\n",
       "    </tr>\n",
       "    <tr>\n",
       "      <th>usertag</th>\n",
       "      <td>-0.005752</td>\n",
       "      <td>0.043784</td>\n",
       "      <td>1.000000</td>\n",
       "      <td>-0.014228</td>\n",
       "      <td>-0.092711</td>\n",
       "      <td>0.041467</td>\n",
       "      <td>NaN</td>\n",
       "      <td>1.000000</td>\n",
       "      <td>-0.092711</td>\n",
       "      <td>0.041467</td>\n",
       "      <td>-0.039271</td>\n",
       "      <td>-0.039714</td>\n",
       "    </tr>\n",
       "    <tr>\n",
       "      <th>userid</th>\n",
       "      <td>-0.001800</td>\n",
       "      <td>0.100422</td>\n",
       "      <td>-0.014228</td>\n",
       "      <td>1.000000</td>\n",
       "      <td>0.000220</td>\n",
       "      <td>-0.020138</td>\n",
       "      <td>NaN</td>\n",
       "      <td>-0.014228</td>\n",
       "      <td>0.000220</td>\n",
       "      <td>-0.020138</td>\n",
       "      <td>-0.057944</td>\n",
       "      <td>-0.057178</td>\n",
       "    </tr>\n",
       "    <tr>\n",
       "      <th>weekday</th>\n",
       "      <td>0.001420</td>\n",
       "      <td>-0.008815</td>\n",
       "      <td>-0.092711</td>\n",
       "      <td>0.000220</td>\n",
       "      <td>1.000000</td>\n",
       "      <td>-0.108740</td>\n",
       "      <td>NaN</td>\n",
       "      <td>-0.092711</td>\n",
       "      <td>1.000000</td>\n",
       "      <td>-0.108740</td>\n",
       "      <td>0.011499</td>\n",
       "      <td>0.011219</td>\n",
       "    </tr>\n",
       "    <tr>\n",
       "      <th>hour</th>\n",
       "      <td>0.001790</td>\n",
       "      <td>-0.033304</td>\n",
       "      <td>0.041467</td>\n",
       "      <td>-0.020138</td>\n",
       "      <td>-0.108740</td>\n",
       "      <td>1.000000</td>\n",
       "      <td>NaN</td>\n",
       "      <td>0.041467</td>\n",
       "      <td>-0.108740</td>\n",
       "      <td>1.000000</td>\n",
       "      <td>-0.037935</td>\n",
       "      <td>-0.038821</td>\n",
       "    </tr>\n",
       "    <tr>\n",
       "      <th>intercept</th>\n",
       "      <td>NaN</td>\n",
       "      <td>NaN</td>\n",
       "      <td>NaN</td>\n",
       "      <td>NaN</td>\n",
       "      <td>NaN</td>\n",
       "      <td>NaN</td>\n",
       "      <td>NaN</td>\n",
       "      <td>NaN</td>\n",
       "      <td>NaN</td>\n",
       "      <td>NaN</td>\n",
       "      <td>NaN</td>\n",
       "      <td>NaN</td>\n",
       "    </tr>\n",
       "    <tr>\n",
       "      <th>adexchange</th>\n",
       "      <td>-0.005752</td>\n",
       "      <td>0.043784</td>\n",
       "      <td>1.000000</td>\n",
       "      <td>-0.014228</td>\n",
       "      <td>-0.092711</td>\n",
       "      <td>0.041467</td>\n",
       "      <td>NaN</td>\n",
       "      <td>1.000000</td>\n",
       "      <td>-0.092711</td>\n",
       "      <td>0.041467</td>\n",
       "      <td>-0.039271</td>\n",
       "      <td>-0.039714</td>\n",
       "    </tr>\n",
       "    <tr>\n",
       "      <th>weekday</th>\n",
       "      <td>0.001420</td>\n",
       "      <td>-0.008815</td>\n",
       "      <td>-0.092711</td>\n",
       "      <td>0.000220</td>\n",
       "      <td>1.000000</td>\n",
       "      <td>-0.108740</td>\n",
       "      <td>NaN</td>\n",
       "      <td>-0.092711</td>\n",
       "      <td>1.000000</td>\n",
       "      <td>-0.108740</td>\n",
       "      <td>0.011499</td>\n",
       "      <td>0.011219</td>\n",
       "    </tr>\n",
       "    <tr>\n",
       "      <th>hour</th>\n",
       "      <td>0.001790</td>\n",
       "      <td>-0.033304</td>\n",
       "      <td>0.041467</td>\n",
       "      <td>-0.020138</td>\n",
       "      <td>-0.108740</td>\n",
       "      <td>1.000000</td>\n",
       "      <td>NaN</td>\n",
       "      <td>0.041467</td>\n",
       "      <td>-0.108740</td>\n",
       "      <td>1.000000</td>\n",
       "      <td>-0.037935</td>\n",
       "      <td>-0.038821</td>\n",
       "    </tr>\n",
       "    <tr>\n",
       "      <th>city</th>\n",
       "      <td>-0.000419</td>\n",
       "      <td>0.019590</td>\n",
       "      <td>-0.039271</td>\n",
       "      <td>-0.057944</td>\n",
       "      <td>0.011499</td>\n",
       "      <td>-0.037935</td>\n",
       "      <td>NaN</td>\n",
       "      <td>-0.039271</td>\n",
       "      <td>0.011499</td>\n",
       "      <td>-0.037935</td>\n",
       "      <td>1.000000</td>\n",
       "      <td>0.995335</td>\n",
       "    </tr>\n",
       "    <tr>\n",
       "      <th>region</th>\n",
       "      <td>-0.000244</td>\n",
       "      <td>0.017450</td>\n",
       "      <td>-0.039714</td>\n",
       "      <td>-0.057178</td>\n",
       "      <td>0.011219</td>\n",
       "      <td>-0.038821</td>\n",
       "      <td>NaN</td>\n",
       "      <td>-0.039714</td>\n",
       "      <td>0.011219</td>\n",
       "      <td>-0.038821</td>\n",
       "      <td>0.995335</td>\n",
       "      <td>1.000000</td>\n",
       "    </tr>\n",
       "  </tbody>\n",
       "</table>\n",
       "</div>"
      ],
      "text/plain": [
       "               click  useragent   usertag    userid   weekday      hour  \\\n",
       "click       1.000000  -0.009471 -0.005752 -0.001800  0.001420  0.001790   \n",
       "useragent  -0.009471   1.000000  0.043784  0.100422 -0.008815 -0.033304   \n",
       "usertag    -0.005752   0.043784  1.000000 -0.014228 -0.092711  0.041467   \n",
       "userid     -0.001800   0.100422 -0.014228  1.000000  0.000220 -0.020138   \n",
       "weekday     0.001420  -0.008815 -0.092711  0.000220  1.000000 -0.108740   \n",
       "hour        0.001790  -0.033304  0.041467 -0.020138 -0.108740  1.000000   \n",
       "intercept        NaN        NaN       NaN       NaN       NaN       NaN   \n",
       "adexchange -0.005752   0.043784  1.000000 -0.014228 -0.092711  0.041467   \n",
       "weekday     0.001420  -0.008815 -0.092711  0.000220  1.000000 -0.108740   \n",
       "hour        0.001790  -0.033304  0.041467 -0.020138 -0.108740  1.000000   \n",
       "city       -0.000419   0.019590 -0.039271 -0.057944  0.011499 -0.037935   \n",
       "region     -0.000244   0.017450 -0.039714 -0.057178  0.011219 -0.038821   \n",
       "\n",
       "            intercept  adexchange   weekday      hour      city    region  \n",
       "click             NaN   -0.005752  0.001420  0.001790 -0.000419 -0.000244  \n",
       "useragent         NaN    0.043784 -0.008815 -0.033304  0.019590  0.017450  \n",
       "usertag           NaN    1.000000 -0.092711  0.041467 -0.039271 -0.039714  \n",
       "userid            NaN   -0.014228  0.000220 -0.020138 -0.057944 -0.057178  \n",
       "weekday           NaN   -0.092711  1.000000 -0.108740  0.011499  0.011219  \n",
       "hour              NaN    0.041467 -0.108740  1.000000 -0.037935 -0.038821  \n",
       "intercept         NaN         NaN       NaN       NaN       NaN       NaN  \n",
       "adexchange        NaN    1.000000 -0.092711  0.041467 -0.039271 -0.039714  \n",
       "weekday           NaN   -0.092711  1.000000 -0.108740  0.011499  0.011219  \n",
       "hour              NaN    0.041467 -0.108740  1.000000 -0.037935 -0.038821  \n",
       "city              NaN   -0.039271  0.011499 -0.037935  1.000000  0.995335  \n",
       "region            NaN   -0.039714  0.011219 -0.038821  0.995335  1.000000  "
      ]
     },
     "execution_count": 15,
     "metadata": {},
     "output_type": "execute_result"
    }
   ],
   "source": [
    "validation_sample.corr(method='spearman')"
   ]
  },
  {
   "cell_type": "code",
   "execution_count": 16,
   "metadata": {
    "collapsed": true
   },
   "outputs": [],
   "source": [
    "x_validation=validation_sample.drop(['click'],axis=1)"
   ]
  },
  {
   "cell_type": "code",
   "execution_count": 17,
   "metadata": {
    "collapsed": false
   },
   "outputs": [
    {
     "data": {
      "text/plain": [
       "0    299523\n",
       "1       226\n",
       "Name: click, dtype: int64"
      ]
     },
     "execution_count": 17,
     "metadata": {},
     "output_type": "execute_result"
    }
   ],
   "source": [
    "validation.click.value_counts()"
   ]
  },
  {
   "cell_type": "markdown",
   "metadata": {},
   "source": [
    "# Decision tree"
   ]
  },
  {
   "cell_type": "code",
   "execution_count": 18,
   "metadata": {
    "collapsed": false
   },
   "outputs": [
    {
     "data": {
      "text/plain": [
       "0    299523\n",
       "1       226\n",
       "Name: click, dtype: int64"
      ]
     },
     "execution_count": 18,
     "metadata": {},
     "output_type": "execute_result"
    }
   ],
   "source": [
    "decision_tree=DecisionTreeClassifier()\n",
    "decision_tree.fit(x_validation, validation.click)\n",
    "decision_tree.score(x_validation, validation.click)\n",
    "prediction=decision_tree.predict(x_validation)\n",
    "prediction=pd.DataFrame(prediction)\n",
    "prediction.columns=['click']\n",
    "prediction.click.value_counts()"
   ]
  },
  {
   "cell_type": "code",
   "execution_count": 19,
   "metadata": {
    "collapsed": true
   },
   "outputs": [],
   "source": [
    "test.loc[test.adexchange=='3','adexchange':]=3\n",
    "test.loc[test.adexchange=='2','adexchange':]=2\n",
    "test.loc[test.adexchange=='1','adexchange':]=1\n",
    "test.loc[test.adexchange=='4','adexchange':]=4\n",
    "test.loc[test.adexchange=='null','adexchange':]=0"
   ]
  },
  {
   "cell_type": "code",
   "execution_count": 20,
   "metadata": {
    "collapsed": true
   },
   "outputs": [],
   "source": [
    "test['userid']=label_encoder.fit_transform(test['userid'])\n",
    "test['useragent']=label_encoder.fit_transform(test['useragent'])\n",
    "test['usertag']=label_encoder.fit_transform(test['usertag'])\n",
    "test['adexchange']=label_encoder.fit_transform(test['adexchange'])"
   ]
  },
  {
   "cell_type": "code",
   "execution_count": 21,
   "metadata": {
    "collapsed": true
   },
   "outputs": [],
   "source": [
    "test['intercept']=1\n",
    "feature=['useragent','usertag','userid','weekday','hour','intercept','adexchange','weekday','hour','city','region']\n",
    "test_sample=test[feature]"
   ]
  },
  {
   "cell_type": "code",
   "execution_count": 22,
   "metadata": {
    "collapsed": false
   },
   "outputs": [
    {
     "data": {
      "text/plain": [
       "0    299422\n",
       "1       327\n",
       "Name: click, dtype: int64"
      ]
     },
     "execution_count": 22,
     "metadata": {},
     "output_type": "execute_result"
    }
   ],
   "source": [
    "prediction_test=decision_tree.predict(test_sample)\n",
    "prediction_test=pd.DataFrame(prediction_test)\n",
    "prediction_test.columns=['click']\n",
    "prediction_test.click.value_counts()"
   ]
  },
  {
   "cell_type": "code",
   "execution_count": 23,
   "metadata": {
    "collapsed": false
   },
   "outputs": [
    {
     "data": {
      "text/plain": [
       " 0    299196\n",
       " 1       327\n",
       "-1       226\n",
       "Name: click, dtype: int64"
      ]
     },
     "execution_count": 23,
     "metadata": {},
     "output_type": "execute_result"
    }
   ],
   "source": [
    "Difference=prediction_test.click-prediction.click\n",
    "Difference=pd.DataFrame(Difference)\n",
    "Difference.columns=['click']\n",
    "Difference.click.value_counts()"
   ]
  },
  {
   "cell_type": "code",
   "execution_count": 24,
   "metadata": {
    "collapsed": false
   },
   "outputs": [
    {
     "data": {
      "text/plain": [
       "0.9981551231196768"
      ]
     },
     "execution_count": 24,
     "metadata": {},
     "output_type": "execute_result"
    }
   ],
   "source": [
    "Real_accuracy=Difference.click.value_counts()[0]/(Difference.click.value_counts()[1]+Difference.click.value_counts()[-1]+\n",
    "                                                 Difference.click.value_counts()[0])\n",
    "Real_accuracy"
   ]
  },
  {
   "cell_type": "code",
   "execution_count": 25,
   "metadata": {
    "collapsed": false
   },
   "outputs": [
    {
     "name": "stdout",
     "output_type": "stream",
     "text": [
      "<class 'pandas.core.frame.DataFrame'>\n",
      "RangeIndex: 299749 entries, 0 to 299748\n",
      "Data columns (total 25 columns):\n",
      "click             299749 non-null int64\n",
      "weekday           299749 non-null int64\n",
      "hour              299749 non-null int64\n",
      "bidid             299749 non-null object\n",
      "logtype           299749 non-null int64\n",
      "userid            299749 non-null int64\n",
      "useragent         299749 non-null int64\n",
      "IP                299749 non-null object\n",
      "region            299749 non-null int64\n",
      "city              299749 non-null int64\n",
      "adexchange        299749 non-null int64\n",
      "domain            299749 non-null object\n",
      "url               299749 non-null object\n",
      "urlid             299749 non-null object\n",
      "slotid            299749 non-null object\n",
      "slotwidth         299749 non-null int64\n",
      "slotheight        299749 non-null int64\n",
      "slotvisibility    299749 non-null object\n",
      "slotformat        299749 non-null object\n",
      "slotprice         299749 non-null int64\n",
      "creative          299749 non-null object\n",
      "keypage           299749 non-null object\n",
      "advertiser        299749 non-null int64\n",
      "usertag           299749 non-null int64\n",
      "intercept         299749 non-null int64\n",
      "dtypes: int64(15), object(10)\n",
      "memory usage: 57.2+ MB\n"
     ]
    }
   ],
   "source": [
    "new_file=pd.concat([prediction_test,test],axis=1)\n",
    "new_file.info()"
   ]
  },
  {
   "cell_type": "markdown",
   "metadata": {},
   "source": [
    "## method 1 for decision tree"
   ]
  },
  {
   "cell_type": "code",
   "execution_count": 26,
   "metadata": {
    "collapsed": false
   },
   "outputs": [
    {
     "data": {
      "text/plain": [
       "0    299422\n",
       "1       327\n",
       "Name: click, dtype: int64"
      ]
     },
     "execution_count": 26,
     "metadata": {},
     "output_type": "execute_result"
    }
   ],
   "source": [
    "new_file.click.value_counts()"
   ]
  },
  {
   "cell_type": "code",
   "execution_count": 27,
   "metadata": {
    "collapsed": false
   },
   "outputs": [
    {
     "data": {
      "text/plain": [
       "0.0010909127303176992"
      ]
     },
     "execution_count": 27,
     "metadata": {},
     "output_type": "execute_result"
    }
   ],
   "source": [
    "predicted_CTR=new_file.click.value_counts()[1]/(new_file.click.value_counts()[1]+new_file.click.value_counts()[0])\n",
    "predicted_CTR"
   ]
  },
  {
   "cell_type": "code",
   "execution_count": 28,
   "metadata": {
    "collapsed": false
   },
   "outputs": [
    {
     "data": {
      "text/plain": [
       "0    299523\n",
       "1       226\n",
       "Name: click, dtype: int64"
      ]
     },
     "execution_count": 28,
     "metadata": {},
     "output_type": "execute_result"
    }
   ],
   "source": [
    "validation.click.value_counts()"
   ]
  },
  {
   "cell_type": "code",
   "execution_count": 29,
   "metadata": {
    "collapsed": false
   },
   "outputs": [
    {
     "data": {
      "text/plain": [
       "0.00075396415000550463"
      ]
     },
     "execution_count": 29,
     "metadata": {},
     "output_type": "execute_result"
    }
   ],
   "source": [
    "validation_CTR=validation.click.value_counts()[1]/(validation.click.value_counts()[1]+validation.click.value_counts()[0])\n",
    "validation_CTR"
   ]
  },
  {
   "cell_type": "markdown",
   "metadata": {},
   "source": [
    "## linear bidding strategy"
   ]
  },
  {
   "cell_type": "code",
   "execution_count": 30,
   "metadata": {
    "collapsed": false
   },
   "outputs": [
    {
     "name": "stdout",
     "output_type": "stream",
     "text": [
      "max : 434.07079646\n",
      "min : 328.446902655\n"
     ]
    }
   ],
   "source": [
    "bidprice_test=new_validation.bidprice*predicted_CTR/validation_CTR\n",
    "bidprice_test\n",
    "print ('max',\":\",max(bidprice_test))\n",
    "print ('min',\":\", min(bidprice_test))"
   ]
  },
  {
   "cell_type": "code",
   "execution_count": 31,
   "metadata": {
    "collapsed": false
   },
   "outputs": [
    {
     "name": "stdout",
     "output_type": "stream",
     "text": [
      "max : 300\n",
      "min : 227\n"
     ]
    }
   ],
   "source": [
    "# for validation bidprice\n",
    "print ('max',\":\",max(new_validation.bidprice))\n",
    "print ('min',\":\", min(new_validation.bidprice))"
   ]
  },
  {
   "cell_type": "code",
   "execution_count": 32,
   "metadata": {
    "collapsed": false
   },
   "outputs": [
    {
     "name": "stdout",
     "output_type": "stream",
     "text": [
      "difference for max : 134.07079646\n",
      "difference for min : 101.446902655\n"
     ]
    }
   ],
   "source": [
    "# difference for max and min between validation and test bidprice\n",
    "difference_max=max(bidprice_test)-max(new_validation.bidprice)\n",
    "difference_min=min(bidprice_test)-min(new_validation.bidprice)\n",
    "print ('difference for max',\":\",difference_max)\n",
    "print ('difference for min',\":\",difference_min)"
   ]
  },
  {
   "cell_type": "code",
   "execution_count": 82,
   "metadata": {
    "collapsed": false
   },
   "outputs": [
    {
     "name": "stdout",
     "output_type": "stream",
     "text": [
      "130519.300885\n",
      "327\n"
     ]
    }
   ],
   "source": [
    "final=pd.concat([new_file, bidprice_test],axis=1)\n",
    "feature=['bidid','bidprice','click']\n",
    "final=final[feature]\n",
    "print (sum(final[final.click==1].bidprice))\n",
    "print (len(final[final.click==1].bidprice))"
   ]
  },
  {
   "cell_type": "code",
   "execution_count": 83,
   "metadata": {
    "collapsed": false
   },
   "outputs": [
    {
     "data": {
      "text/plain": [
       "0    299422\n",
       "1       327\n",
       "Name: click, dtype: int64"
      ]
     },
     "execution_count": 83,
     "metadata": {},
     "output_type": "execute_result"
    }
   ],
   "source": [
    "final.click.value_counts()"
   ]
  },
  {
   "cell_type": "code",
   "execution_count": 84,
   "metadata": {
    "collapsed": false
   },
   "outputs": [
    {
     "data": {
      "text/html": [
       "<div>\n",
       "<table border=\"1\" class=\"dataframe\">\n",
       "  <thead>\n",
       "    <tr style=\"text-align: right;\">\n",
       "      <th></th>\n",
       "      <th>bidid</th>\n",
       "      <th>bidprice</th>\n",
       "      <th>click</th>\n",
       "    </tr>\n",
       "  </thead>\n",
       "  <tbody>\n",
       "    <tr>\n",
       "      <th>0</th>\n",
       "      <td>fe2e06dff1dfd227471fd1ca717888ac</td>\n",
       "      <td>328.446903</td>\n",
       "      <td>0</td>\n",
       "    </tr>\n",
       "    <tr>\n",
       "      <th>1</th>\n",
       "      <td>92ea762b7b2cfd7aee30a2e88e1f5899</td>\n",
       "      <td>400.792035</td>\n",
       "      <td>0</td>\n",
       "    </tr>\n",
       "    <tr>\n",
       "      <th>2</th>\n",
       "      <td>617dfab714eedf4988c4aa9ad5425eca</td>\n",
       "      <td>348.703540</td>\n",
       "      <td>0</td>\n",
       "    </tr>\n",
       "    <tr>\n",
       "      <th>3</th>\n",
       "      <td>7fa016aaa3db39413b482f757facc3f4</td>\n",
       "      <td>348.703540</td>\n",
       "      <td>0</td>\n",
       "    </tr>\n",
       "    <tr>\n",
       "      <th>4</th>\n",
       "      <td>49db062ac10d19591dc7d988d730aad5</td>\n",
       "      <td>434.070796</td>\n",
       "      <td>0</td>\n",
       "    </tr>\n",
       "    <tr>\n",
       "      <th>5</th>\n",
       "      <td>6d86a43fbda12fc89c98620f4d8aedc1</td>\n",
       "      <td>344.362832</td>\n",
       "      <td>0</td>\n",
       "    </tr>\n",
       "    <tr>\n",
       "      <th>6</th>\n",
       "      <td>3b6b3f3227d42ad74971be4b9a26c189</td>\n",
       "      <td>434.070796</td>\n",
       "      <td>0</td>\n",
       "    </tr>\n",
       "    <tr>\n",
       "      <th>7</th>\n",
       "      <td>2cc65c3a9f97620d33d4c3ddfb368869</td>\n",
       "      <td>425.389381</td>\n",
       "      <td>0</td>\n",
       "    </tr>\n",
       "    <tr>\n",
       "      <th>8</th>\n",
       "      <td>be487ced968062be378892fc87013ff9</td>\n",
       "      <td>367.513274</td>\n",
       "      <td>0</td>\n",
       "    </tr>\n",
       "    <tr>\n",
       "      <th>9</th>\n",
       "      <td>7f7a7e763db7ec8123ddeb8a8c90689f</td>\n",
       "      <td>434.070796</td>\n",
       "      <td>0</td>\n",
       "    </tr>\n",
       "    <tr>\n",
       "      <th>10</th>\n",
       "      <td>a7a39744abc9fb0cda090dcb1c8124a3</td>\n",
       "      <td>434.070796</td>\n",
       "      <td>0</td>\n",
       "    </tr>\n",
       "    <tr>\n",
       "      <th>11</th>\n",
       "      <td>555881fe723734b534380df038cf96b8</td>\n",
       "      <td>367.513274</td>\n",
       "      <td>0</td>\n",
       "    </tr>\n",
       "    <tr>\n",
       "      <th>12</th>\n",
       "      <td>004fc1b86be2edaa84e0198bd5932a31</td>\n",
       "      <td>434.070796</td>\n",
       "      <td>0</td>\n",
       "    </tr>\n",
       "    <tr>\n",
       "      <th>13</th>\n",
       "      <td>705b532e4d07bd00f442002d311b5a2d</td>\n",
       "      <td>434.070796</td>\n",
       "      <td>0</td>\n",
       "    </tr>\n",
       "    <tr>\n",
       "      <th>14</th>\n",
       "      <td>539d178fd7b9c29af35533c53b8c98ec</td>\n",
       "      <td>328.446903</td>\n",
       "      <td>0</td>\n",
       "    </tr>\n",
       "    <tr>\n",
       "      <th>15</th>\n",
       "      <td>afc4f71205d852cce27df606c0644c42</td>\n",
       "      <td>434.070796</td>\n",
       "      <td>0</td>\n",
       "    </tr>\n",
       "    <tr>\n",
       "      <th>16</th>\n",
       "      <td>a70f214d127567f890958cce16c04916</td>\n",
       "      <td>434.070796</td>\n",
       "      <td>0</td>\n",
       "    </tr>\n",
       "    <tr>\n",
       "      <th>17</th>\n",
       "      <td>a508a897ead098124f513282449236fa</td>\n",
       "      <td>434.070796</td>\n",
       "      <td>0</td>\n",
       "    </tr>\n",
       "    <tr>\n",
       "      <th>18</th>\n",
       "      <td>b0279546e885d652b6483c0213b2d951</td>\n",
       "      <td>434.070796</td>\n",
       "      <td>0</td>\n",
       "    </tr>\n",
       "    <tr>\n",
       "      <th>19</th>\n",
       "      <td>5a9ad63fdc7b51985737c16f7a56eb9c</td>\n",
       "      <td>434.070796</td>\n",
       "      <td>0</td>\n",
       "    </tr>\n",
       "    <tr>\n",
       "      <th>20</th>\n",
       "      <td>b1a68056e579505ac6ad018d82a4f0a4</td>\n",
       "      <td>425.389381</td>\n",
       "      <td>0</td>\n",
       "    </tr>\n",
       "    <tr>\n",
       "      <th>21</th>\n",
       "      <td>0f827877408b6dbd1c0e4a40aec312c4</td>\n",
       "      <td>434.070796</td>\n",
       "      <td>0</td>\n",
       "    </tr>\n",
       "    <tr>\n",
       "      <th>22</th>\n",
       "      <td>d46c14bc869f485f88f7b1a31239c8ab</td>\n",
       "      <td>328.446903</td>\n",
       "      <td>0</td>\n",
       "    </tr>\n",
       "    <tr>\n",
       "      <th>23</th>\n",
       "      <td>157fa190f544e5b805bea449b18e4228</td>\n",
       "      <td>348.703540</td>\n",
       "      <td>0</td>\n",
       "    </tr>\n",
       "    <tr>\n",
       "      <th>24</th>\n",
       "      <td>c2841133526a311fd9258a7915b7aaa2</td>\n",
       "      <td>434.070796</td>\n",
       "      <td>0</td>\n",
       "    </tr>\n",
       "    <tr>\n",
       "      <th>25</th>\n",
       "      <td>a3f0f6f43517eb949b96db354eb16d66</td>\n",
       "      <td>434.070796</td>\n",
       "      <td>0</td>\n",
       "    </tr>\n",
       "    <tr>\n",
       "      <th>26</th>\n",
       "      <td>df7c81369edbfafd97b232f778632f35</td>\n",
       "      <td>434.070796</td>\n",
       "      <td>0</td>\n",
       "    </tr>\n",
       "    <tr>\n",
       "      <th>27</th>\n",
       "      <td>9d79913f545946aea1335e2d367f1005</td>\n",
       "      <td>434.070796</td>\n",
       "      <td>0</td>\n",
       "    </tr>\n",
       "    <tr>\n",
       "      <th>28</th>\n",
       "      <td>40f47b2ddc1d9d682fb3828e7dd0a629</td>\n",
       "      <td>344.362832</td>\n",
       "      <td>0</td>\n",
       "    </tr>\n",
       "    <tr>\n",
       "      <th>29</th>\n",
       "      <td>e151da8f94235740a9a579e188e05e4c</td>\n",
       "      <td>328.446903</td>\n",
       "      <td>0</td>\n",
       "    </tr>\n",
       "    <tr>\n",
       "      <th>...</th>\n",
       "      <td>...</td>\n",
       "      <td>...</td>\n",
       "      <td>...</td>\n",
       "    </tr>\n",
       "    <tr>\n",
       "      <th>299719</th>\n",
       "      <td>dfbc52ba9efc41d4e308f9fb38dccedf</td>\n",
       "      <td>367.513274</td>\n",
       "      <td>0</td>\n",
       "    </tr>\n",
       "    <tr>\n",
       "      <th>299720</th>\n",
       "      <td>d82c7f63e7f81e3a5fc1653c666c2bff</td>\n",
       "      <td>348.703540</td>\n",
       "      <td>0</td>\n",
       "    </tr>\n",
       "    <tr>\n",
       "      <th>299721</th>\n",
       "      <td>164c194d1b2f712f320423b0e0dc2fa7</td>\n",
       "      <td>328.446903</td>\n",
       "      <td>0</td>\n",
       "    </tr>\n",
       "    <tr>\n",
       "      <th>299722</th>\n",
       "      <td>3bc603dc4134f6f55f3a5c009a904e3a</td>\n",
       "      <td>434.070796</td>\n",
       "      <td>0</td>\n",
       "    </tr>\n",
       "    <tr>\n",
       "      <th>299723</th>\n",
       "      <td>0c1200a6fa7b6fdd9173927e282a584f</td>\n",
       "      <td>434.070796</td>\n",
       "      <td>0</td>\n",
       "    </tr>\n",
       "    <tr>\n",
       "      <th>299724</th>\n",
       "      <td>2c0859e6824e03ff1b42b19d5341a18b</td>\n",
       "      <td>328.446903</td>\n",
       "      <td>0</td>\n",
       "    </tr>\n",
       "    <tr>\n",
       "      <th>299725</th>\n",
       "      <td>03c9448d51c5e1bad0c83f17cf09e392</td>\n",
       "      <td>425.389381</td>\n",
       "      <td>0</td>\n",
       "    </tr>\n",
       "    <tr>\n",
       "      <th>299726</th>\n",
       "      <td>757c05fe2bfe79e0c15a58560d7c2b5f</td>\n",
       "      <td>344.362832</td>\n",
       "      <td>0</td>\n",
       "    </tr>\n",
       "    <tr>\n",
       "      <th>299727</th>\n",
       "      <td>1f15230f1604555f3d85adb2c3f6bfd9</td>\n",
       "      <td>400.792035</td>\n",
       "      <td>0</td>\n",
       "    </tr>\n",
       "    <tr>\n",
       "      <th>299728</th>\n",
       "      <td>51168a0636411a0bdb8ba972b89b49ac</td>\n",
       "      <td>344.362832</td>\n",
       "      <td>0</td>\n",
       "    </tr>\n",
       "    <tr>\n",
       "      <th>299729</th>\n",
       "      <td>4feacdc544123d36dd7970cf3823c4c2</td>\n",
       "      <td>434.070796</td>\n",
       "      <td>0</td>\n",
       "    </tr>\n",
       "    <tr>\n",
       "      <th>299730</th>\n",
       "      <td>2addea009ed7405f8129d21dc2be880a</td>\n",
       "      <td>434.070796</td>\n",
       "      <td>0</td>\n",
       "    </tr>\n",
       "    <tr>\n",
       "      <th>299731</th>\n",
       "      <td>1b42d95cbc6958cd196401df670553b5</td>\n",
       "      <td>344.362832</td>\n",
       "      <td>0</td>\n",
       "    </tr>\n",
       "    <tr>\n",
       "      <th>299732</th>\n",
       "      <td>59a2c1b2f339a5d832d4461647ae4df2</td>\n",
       "      <td>367.513274</td>\n",
       "      <td>0</td>\n",
       "    </tr>\n",
       "    <tr>\n",
       "      <th>299733</th>\n",
       "      <td>16d33ffc8bed863e9d3fca102d4ebca5</td>\n",
       "      <td>434.070796</td>\n",
       "      <td>0</td>\n",
       "    </tr>\n",
       "    <tr>\n",
       "      <th>299734</th>\n",
       "      <td>b062edcc09d5b04116852201ee8773e7</td>\n",
       "      <td>434.070796</td>\n",
       "      <td>0</td>\n",
       "    </tr>\n",
       "    <tr>\n",
       "      <th>299735</th>\n",
       "      <td>122852b66e696889e9876e4c37e76f0a</td>\n",
       "      <td>367.513274</td>\n",
       "      <td>0</td>\n",
       "    </tr>\n",
       "    <tr>\n",
       "      <th>299736</th>\n",
       "      <td>892aa5bb0249ff4f288df8a9e988c6b1</td>\n",
       "      <td>360.278761</td>\n",
       "      <td>0</td>\n",
       "    </tr>\n",
       "    <tr>\n",
       "      <th>299737</th>\n",
       "      <td>3dafe4edf7bc45f9517004a167a6a2e8</td>\n",
       "      <td>434.070796</td>\n",
       "      <td>0</td>\n",
       "    </tr>\n",
       "    <tr>\n",
       "      <th>299738</th>\n",
       "      <td>ab8da8144065f021bb1b49a859be5df1</td>\n",
       "      <td>434.070796</td>\n",
       "      <td>0</td>\n",
       "    </tr>\n",
       "    <tr>\n",
       "      <th>299739</th>\n",
       "      <td>d16b4e7b52f9ff566c1a0a5fa3e25497</td>\n",
       "      <td>434.070796</td>\n",
       "      <td>0</td>\n",
       "    </tr>\n",
       "    <tr>\n",
       "      <th>299740</th>\n",
       "      <td>244ac136e808f325155dc661b61a85b5</td>\n",
       "      <td>425.389381</td>\n",
       "      <td>0</td>\n",
       "    </tr>\n",
       "    <tr>\n",
       "      <th>299741</th>\n",
       "      <td>5ad09692c6e8ab38f46e0a1afdccbf36</td>\n",
       "      <td>328.446903</td>\n",
       "      <td>0</td>\n",
       "    </tr>\n",
       "    <tr>\n",
       "      <th>299742</th>\n",
       "      <td>2c3d30098820970ab0841e717ce1952d</td>\n",
       "      <td>344.362832</td>\n",
       "      <td>0</td>\n",
       "    </tr>\n",
       "    <tr>\n",
       "      <th>299743</th>\n",
       "      <td>12ba0e62802b068ab7587684246e022b</td>\n",
       "      <td>344.362832</td>\n",
       "      <td>0</td>\n",
       "    </tr>\n",
       "    <tr>\n",
       "      <th>299744</th>\n",
       "      <td>5ea93704cda9298fcb9c081264ce7fe4</td>\n",
       "      <td>425.389381</td>\n",
       "      <td>0</td>\n",
       "    </tr>\n",
       "    <tr>\n",
       "      <th>299745</th>\n",
       "      <td>6220470327fcf18112285dc38cf93b51</td>\n",
       "      <td>425.389381</td>\n",
       "      <td>0</td>\n",
       "    </tr>\n",
       "    <tr>\n",
       "      <th>299746</th>\n",
       "      <td>fde0d35a65c8253289c00290e0e80230</td>\n",
       "      <td>344.362832</td>\n",
       "      <td>0</td>\n",
       "    </tr>\n",
       "    <tr>\n",
       "      <th>299747</th>\n",
       "      <td>2c43ea3b1cedb829ce0965f7bbbe81da</td>\n",
       "      <td>344.362832</td>\n",
       "      <td>0</td>\n",
       "    </tr>\n",
       "    <tr>\n",
       "      <th>299748</th>\n",
       "      <td>be099b68183c051ba5e6b339b603ce22</td>\n",
       "      <td>434.070796</td>\n",
       "      <td>0</td>\n",
       "    </tr>\n",
       "  </tbody>\n",
       "</table>\n",
       "<p>299749 rows × 3 columns</p>\n",
       "</div>"
      ],
      "text/plain": [
       "                                   bidid    bidprice  click\n",
       "0       fe2e06dff1dfd227471fd1ca717888ac  328.446903      0\n",
       "1       92ea762b7b2cfd7aee30a2e88e1f5899  400.792035      0\n",
       "2       617dfab714eedf4988c4aa9ad5425eca  348.703540      0\n",
       "3       7fa016aaa3db39413b482f757facc3f4  348.703540      0\n",
       "4       49db062ac10d19591dc7d988d730aad5  434.070796      0\n",
       "5       6d86a43fbda12fc89c98620f4d8aedc1  344.362832      0\n",
       "6       3b6b3f3227d42ad74971be4b9a26c189  434.070796      0\n",
       "7       2cc65c3a9f97620d33d4c3ddfb368869  425.389381      0\n",
       "8       be487ced968062be378892fc87013ff9  367.513274      0\n",
       "9       7f7a7e763db7ec8123ddeb8a8c90689f  434.070796      0\n",
       "10      a7a39744abc9fb0cda090dcb1c8124a3  434.070796      0\n",
       "11      555881fe723734b534380df038cf96b8  367.513274      0\n",
       "12      004fc1b86be2edaa84e0198bd5932a31  434.070796      0\n",
       "13      705b532e4d07bd00f442002d311b5a2d  434.070796      0\n",
       "14      539d178fd7b9c29af35533c53b8c98ec  328.446903      0\n",
       "15      afc4f71205d852cce27df606c0644c42  434.070796      0\n",
       "16      a70f214d127567f890958cce16c04916  434.070796      0\n",
       "17      a508a897ead098124f513282449236fa  434.070796      0\n",
       "18      b0279546e885d652b6483c0213b2d951  434.070796      0\n",
       "19      5a9ad63fdc7b51985737c16f7a56eb9c  434.070796      0\n",
       "20      b1a68056e579505ac6ad018d82a4f0a4  425.389381      0\n",
       "21      0f827877408b6dbd1c0e4a40aec312c4  434.070796      0\n",
       "22      d46c14bc869f485f88f7b1a31239c8ab  328.446903      0\n",
       "23      157fa190f544e5b805bea449b18e4228  348.703540      0\n",
       "24      c2841133526a311fd9258a7915b7aaa2  434.070796      0\n",
       "25      a3f0f6f43517eb949b96db354eb16d66  434.070796      0\n",
       "26      df7c81369edbfafd97b232f778632f35  434.070796      0\n",
       "27      9d79913f545946aea1335e2d367f1005  434.070796      0\n",
       "28      40f47b2ddc1d9d682fb3828e7dd0a629  344.362832      0\n",
       "29      e151da8f94235740a9a579e188e05e4c  328.446903      0\n",
       "...                                  ...         ...    ...\n",
       "299719  dfbc52ba9efc41d4e308f9fb38dccedf  367.513274      0\n",
       "299720  d82c7f63e7f81e3a5fc1653c666c2bff  348.703540      0\n",
       "299721  164c194d1b2f712f320423b0e0dc2fa7  328.446903      0\n",
       "299722  3bc603dc4134f6f55f3a5c009a904e3a  434.070796      0\n",
       "299723  0c1200a6fa7b6fdd9173927e282a584f  434.070796      0\n",
       "299724  2c0859e6824e03ff1b42b19d5341a18b  328.446903      0\n",
       "299725  03c9448d51c5e1bad0c83f17cf09e392  425.389381      0\n",
       "299726  757c05fe2bfe79e0c15a58560d7c2b5f  344.362832      0\n",
       "299727  1f15230f1604555f3d85adb2c3f6bfd9  400.792035      0\n",
       "299728  51168a0636411a0bdb8ba972b89b49ac  344.362832      0\n",
       "299729  4feacdc544123d36dd7970cf3823c4c2  434.070796      0\n",
       "299730  2addea009ed7405f8129d21dc2be880a  434.070796      0\n",
       "299731  1b42d95cbc6958cd196401df670553b5  344.362832      0\n",
       "299732  59a2c1b2f339a5d832d4461647ae4df2  367.513274      0\n",
       "299733  16d33ffc8bed863e9d3fca102d4ebca5  434.070796      0\n",
       "299734  b062edcc09d5b04116852201ee8773e7  434.070796      0\n",
       "299735  122852b66e696889e9876e4c37e76f0a  367.513274      0\n",
       "299736  892aa5bb0249ff4f288df8a9e988c6b1  360.278761      0\n",
       "299737  3dafe4edf7bc45f9517004a167a6a2e8  434.070796      0\n",
       "299738  ab8da8144065f021bb1b49a859be5df1  434.070796      0\n",
       "299739  d16b4e7b52f9ff566c1a0a5fa3e25497  434.070796      0\n",
       "299740  244ac136e808f325155dc661b61a85b5  425.389381      0\n",
       "299741  5ad09692c6e8ab38f46e0a1afdccbf36  328.446903      0\n",
       "299742  2c3d30098820970ab0841e717ce1952d  344.362832      0\n",
       "299743  12ba0e62802b068ab7587684246e022b  344.362832      0\n",
       "299744  5ea93704cda9298fcb9c081264ce7fe4  425.389381      0\n",
       "299745  6220470327fcf18112285dc38cf93b51  425.389381      0\n",
       "299746  fde0d35a65c8253289c00290e0e80230  344.362832      0\n",
       "299747  2c43ea3b1cedb829ce0965f7bbbe81da  344.362832      0\n",
       "299748  be099b68183c051ba5e6b339b603ce22  434.070796      0\n",
       "\n",
       "[299749 rows x 3 columns]"
      ]
     },
     "execution_count": 84,
     "metadata": {},
     "output_type": "execute_result"
    }
   ],
   "source": [
    "final"
   ]
  },
  {
   "cell_type": "code",
   "execution_count": null,
   "metadata": {
    "collapsed": true
   },
   "outputs": [],
   "source": []
  },
  {
   "cell_type": "code",
   "execution_count": null,
   "metadata": {
    "collapsed": true
   },
   "outputs": [],
   "source": []
  },
  {
   "cell_type": "markdown",
   "metadata": {},
   "source": [
    "# Adaboost"
   ]
  },
  {
   "cell_type": "code",
   "execution_count": 15,
   "metadata": {
    "collapsed": false
   },
   "outputs": [
    {
     "data": {
      "text/plain": [
       "AdaBoostClassifier(algorithm='SAMME.R', base_estimator=None,\n",
       "          learning_rate=1.0, n_estimators=50, random_state=None)"
      ]
     },
     "execution_count": 15,
     "metadata": {},
     "output_type": "execute_result"
    }
   ],
   "source": [
    "ada_boost=AdaBoostClassifier()\n",
    "ada_boost.fit(x_validation, validation.click)"
   ]
  },
  {
   "cell_type": "code",
   "execution_count": 17,
   "metadata": {
    "collapsed": false
   },
   "outputs": [
    {
     "data": {
      "text/plain": [
       "0.9992527080991096"
      ]
     },
     "execution_count": 17,
     "metadata": {},
     "output_type": "execute_result"
    }
   ],
   "source": [
    "ada_boost.score(x_validation, validation.click)"
   ]
  },
  {
   "cell_type": "code",
   "execution_count": 18,
   "metadata": {
    "collapsed": false
   },
   "outputs": [
    {
     "data": {
      "text/plain": [
       "0    299747\n",
       "1         2\n",
       "Name: click, dtype: int64"
      ]
     },
     "execution_count": 18,
     "metadata": {},
     "output_type": "execute_result"
    }
   ],
   "source": [
    "prediction=ada_boost.predict(x_validation)\n",
    "prediction=pd.DataFrame(prediction)\n",
    "prediction.columns=['click']\n",
    "prediction.click.value_counts()"
   ]
  },
  {
   "cell_type": "code",
   "execution_count": 26,
   "metadata": {
    "collapsed": false
   },
   "outputs": [
    {
     "data": {
      "text/plain": [
       "3       99997\n",
       "2       93170\n",
       "1       90769\n",
       "4        9632\n",
       "null     6181\n",
       "Name: adexchange, dtype: int64"
      ]
     },
     "execution_count": 26,
     "metadata": {},
     "output_type": "execute_result"
    }
   ],
   "source": [
    "test.adexchange.value_counts()"
   ]
  },
  {
   "cell_type": "code",
   "execution_count": 27,
   "metadata": {
    "collapsed": true
   },
   "outputs": [],
   "source": [
    "test.loc[test.adexchange=='3','adexchange':]=3\n",
    "test.loc[test.adexchange=='2','adexchange':]=2\n",
    "test.loc[test.adexchange=='1','adexchange':]=1\n",
    "test.loc[test.adexchange=='4','adexchange':]=4\n",
    "test.loc[test.adexchange=='null','adexchange':]=0"
   ]
  },
  {
   "cell_type": "code",
   "execution_count": 28,
   "metadata": {
    "collapsed": true
   },
   "outputs": [],
   "source": [
    "test['userid']=label_encoder.fit_transform(test['userid'])\n",
    "test['useragent']=label_encoder.fit_transform(test['useragent'])\n",
    "test['usertag']=label_encoder.fit_transform(test['usertag'])\n",
    "test['adexchange']=label_encoder.fit_transform(test['adexchange'])"
   ]
  },
  {
   "cell_type": "code",
   "execution_count": 31,
   "metadata": {
    "collapsed": true
   },
   "outputs": [],
   "source": [
    "test['intercept']=1\n",
    "feature=['useragent','usertag','userid','weekday','hour','intercept','adexchange','weekday','hour','city','region']\n",
    "test_sample=test[feature]"
   ]
  },
  {
   "cell_type": "code",
   "execution_count": 35,
   "metadata": {
    "collapsed": false
   },
   "outputs": [
    {
     "data": {
      "text/plain": [
       "0    299747\n",
       "1         2\n",
       "Name: click, dtype: int64"
      ]
     },
     "execution_count": 35,
     "metadata": {},
     "output_type": "execute_result"
    }
   ],
   "source": [
    "prediction_test=ada_boost.predict(test_sample)\n",
    "prediction_test=pd.DataFrame(prediction_test)\n",
    "prediction_test.columns=['click']\n",
    "prediction_test.click.value_counts()"
   ]
  },
  {
   "cell_type": "markdown",
   "metadata": {},
   "source": [
    "# KNN"
   ]
  },
  {
   "cell_type": "code",
   "execution_count": 19,
   "metadata": {
    "collapsed": false
   },
   "outputs": [
    {
     "data": {
      "text/plain": [
       "KNeighborsClassifier(algorithm='auto', leaf_size=30, metric='minkowski',\n",
       "           metric_params=None, n_jobs=1, n_neighbors=5, p=2,\n",
       "           weights='uniform')"
      ]
     },
     "execution_count": 19,
     "metadata": {},
     "output_type": "execute_result"
    }
   ],
   "source": [
    "knn=KNeighborsClassifier(n_neighbors=5)\n",
    "knn.fit(x_validation, validation.click)"
   ]
  },
  {
   "cell_type": "code",
   "execution_count": 20,
   "metadata": {
    "collapsed": false
   },
   "outputs": [
    {
     "data": {
      "text/plain": [
       "0.9992460358499945"
      ]
     },
     "execution_count": 20,
     "metadata": {},
     "output_type": "execute_result"
    }
   ],
   "source": [
    "accuracy=knn.score(x_validation, validation.click)\n",
    "accuracy"
   ]
  },
  {
   "cell_type": "code",
   "execution_count": 23,
   "metadata": {
    "collapsed": false
   },
   "outputs": [
    {
     "data": {
      "text/plain": [
       "0    299749\n",
       "Name: click, dtype: int64"
      ]
     },
     "execution_count": 23,
     "metadata": {},
     "output_type": "execute_result"
    }
   ],
   "source": [
    "prediction=knn.predict(x_validation)\n",
    "prediction=pd.DataFrame(prediction)\n",
    "prediction.columns=['click']\n",
    "prediction.click.value_counts()"
   ]
  },
  {
   "cell_type": "markdown",
   "metadata": {},
   "source": [
    "# SVM"
   ]
  },
  {
   "cell_type": "code",
   "execution_count": 30,
   "metadata": {
    "collapsed": false
   },
   "outputs": [
    {
     "data": {
      "text/plain": [
       "SVC(C=1.0, cache_size=200, class_weight=None, coef0=0.0,\n",
       "  decision_function_shape=None, degree=3, gamma='auto', kernel='rbf',\n",
       "  max_iter=-1, probability=False, random_state=None, shrinking=True,\n",
       "  tol=0.001, verbose=False)"
      ]
     },
     "execution_count": 30,
     "metadata": {},
     "output_type": "execute_result"
    }
   ],
   "source": [
    "clf=svm.SVC()\n",
    "clf.fit(x_validation, validation_1458.click)"
   ]
  },
  {
   "cell_type": "code",
   "execution_count": 31,
   "metadata": {
    "collapsed": false
   },
   "outputs": [
    {
     "data": {
      "text/plain": [
       "0.99916701374427319"
      ]
     },
     "execution_count": 31,
     "metadata": {},
     "output_type": "execute_result"
    }
   ],
   "source": [
    "y_validation=validation_1458.click\n",
    "accuracy=clf.score(x_validation,y_validation)\n",
    "accuracy"
   ]
  },
  {
   "cell_type": "code",
   "execution_count": 58,
   "metadata": {
    "collapsed": false
   },
   "outputs": [],
   "source": [
    "test_sample=test[test.advertiser==1458]"
   ]
  },
  {
   "cell_type": "code",
   "execution_count": 59,
   "metadata": {
    "collapsed": false
   },
   "outputs": [
    {
     "data": {
      "text/plain": [
       "3    21855\n",
       "1    20152\n",
       "2    17782\n",
       "Name: adexchange, dtype: int64"
      ]
     },
     "execution_count": 59,
     "metadata": {},
     "output_type": "execute_result"
    }
   ],
   "source": [
    "test_sample.adexchange.value_counts()"
   ]
  },
  {
   "cell_type": "code",
   "execution_count": 53,
   "metadata": {
    "collapsed": false
   },
   "outputs": [
    {
     "data": {
      "text/plain": [
       "Index(['weekday', 'hour', 'bidid', 'logtype', 'userid', 'useragent', 'IP',\n",
       "       'region', 'city', 'adexchange', 'domain', 'url', 'urlid', 'slotid',\n",
       "       'slotwidth', 'slotheight', 'slotvisibility', 'slotformat', 'slotprice',\n",
       "       'creative', 'keypage', 'advertiser', 'usertag', 'intercept'],\n",
       "      dtype='object')"
      ]
     },
     "execution_count": 53,
     "metadata": {},
     "output_type": "execute_result"
    }
   ],
   "source": [
    "test[test.advertiser==1458].columns"
   ]
  },
  {
   "cell_type": "code",
   "execution_count": 60,
   "metadata": {
    "collapsed": false
   },
   "outputs": [
    {
     "name": "stderr",
     "output_type": "stream",
     "text": [
      "C:\\Users\\yifeichongtian\\Anaconda3\\lib\\site-packages\\ipykernel\\__main__.py:1: SettingWithCopyWarning: \n",
      "A value is trying to be set on a copy of a slice from a DataFrame.\n",
      "Try using .loc[row_indexer,col_indexer] = value instead\n",
      "\n",
      "See the caveats in the documentation: http://pandas.pydata.org/pandas-docs/stable/indexing.html#indexing-view-versus-copy\n",
      "  if __name__ == '__main__':\n"
     ]
    }
   ],
   "source": [
    "test_sample['useragent']=label_encoder.fit_transform(test_sample['useragent'])\n"
   ]
  },
  {
   "cell_type": "code",
   "execution_count": 61,
   "metadata": {
    "collapsed": false
   },
   "outputs": [
    {
     "data": {
      "text/plain": [
       "array([0, 0, 0, ..., 0, 0, 0], dtype=int64)"
      ]
     },
     "execution_count": 61,
     "metadata": {},
     "output_type": "execute_result"
    }
   ],
   "source": [
    "# prediction for click value in testset\n",
    "test['intercept']=1\n",
    "feature=['useragent','weekday','hour','intercept']\n",
    "x_test=test_sample[feature]\n",
    "prediction=clf.predict(x_test)\n",
    "prediction"
   ]
  },
  {
   "cell_type": "code",
   "execution_count": 62,
   "metadata": {
    "collapsed": false
   },
   "outputs": [
    {
     "data": {
      "text/plain": [
       "0    59789\n",
       "Name: click, dtype: int64"
      ]
     },
     "execution_count": 62,
     "metadata": {},
     "output_type": "execute_result"
    }
   ],
   "source": [
    "prediction=pd.DataFrame(prediction)\n",
    "prediction.columns=['click']\n",
    "prediction.click.value_counts()"
   ]
  },
  {
   "cell_type": "code",
   "execution_count": null,
   "metadata": {
    "collapsed": true
   },
   "outputs": [],
   "source": []
  },
  {
   "cell_type": "code",
   "execution_count": null,
   "metadata": {
    "collapsed": true
   },
   "outputs": [],
   "source": []
  },
  {
   "cell_type": "code",
   "execution_count": null,
   "metadata": {
    "collapsed": true
   },
   "outputs": [],
   "source": []
  },
  {
   "cell_type": "code",
   "execution_count": null,
   "metadata": {
    "collapsed": true
   },
   "outputs": [],
   "source": []
  }
 ],
 "metadata": {
  "anaconda-cloud": {},
  "kernelspec": {
   "display_name": "Python [conda root]",
   "language": "python",
   "name": "conda-root-py"
  },
  "language_info": {
   "codemirror_mode": {
    "name": "ipython",
    "version": 3
   },
   "file_extension": ".py",
   "mimetype": "text/x-python",
   "name": "python",
   "nbconvert_exporter": "python",
   "pygments_lexer": "ipython3",
   "version": "3.5.2"
  }
 },
 "nbformat": 4,
 "nbformat_minor": 1
}
